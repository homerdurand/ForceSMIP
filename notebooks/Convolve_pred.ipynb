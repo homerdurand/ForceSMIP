{
 "cells": [
  {
   "cell_type": "code",
   "execution_count": 1,
   "id": "6271f056",
   "metadata": {},
   "outputs": [],
   "source": [
    "from matplotlib import pyplot as plt\n",
    "\n",
    "import xarray as xr\n",
    "import netCDF4 as nc\n",
    "import numpy as np\n",
    "\n",
    "import os\n",
    "\n",
    "import datetime as dt\n",
    "import pickle\n",
    "\n",
    "from sklearn.model_selection import train_test_split\n",
    "from sklearn.linear_model import RidgeCV, Ridge, LinearRegression, Lasso, ElasticNet\n",
    "from sklearn.kernel_ridge import KernelRidge\n",
    "from sklearn.metrics import r2_score\n",
    "import random\n",
    "from tqdm import tqdm\n",
    "from collections import Counter"
   ]
  },
  {
   "cell_type": "code",
   "execution_count": 2,
   "id": "91bc34d8",
   "metadata": {},
   "outputs": [],
   "source": [
    "models = ['CanESM5', 'MIROC-ES2L', 'MPI-ESM1-2-LR', 'MIROC6', 'CESM2']"
   ]
  },
  {
   "cell_type": "code",
   "execution_count": 43,
   "id": "000cc424",
   "metadata": {},
   "outputs": [],
   "source": [
    "def load_model_data(model, var, path='../data/'):\n",
    "    # Loading data file\n",
    "    file_path = os.path.join(path, '{}_{}.nc'.format(model, var))\n",
    "    ds = xr.open_dataset(file_path)\n",
    "    # Getting TAS\n",
    "    tas_array = ds[var].values\n",
    "    # Close the dataset\n",
    "    ds.close()\n",
    "    return tas_array\n",
    "\n",
    "def get_data_shape_lat_lon(model='CanESM5', var='tas', path='../data/'):\n",
    "    file_path = os.path.join(path, '{}_{}.nc'.format(model, var))\n",
    "    ds = xr.open_dataset(file_path)\n",
    "    # Getting TAS\n",
    "    shape = ds[var].values.shape\n",
    "    # Close the dataset\n",
    "    ds.close()\n",
    "    return shape, ds['lat'], ds['lon']\n",
    "\n",
    "def load_data_models(models, var='tas', n_sample=10, path='../data/', coarse=12):\n",
    "    X, y = None, None\n",
    "    for model in models:\n",
    "        tas_array = load_model_data(model, var=var, path=path)\n",
    "        shape = tas_array.shape\n",
    "        \n",
    "        idxs = random.sample(range(shape[0]*shape[1]), n_sample)\n",
    "        X_temp = tas_array.reshape(shape[0]*shape[1], shape[2], shape[3])\n",
    "        y_temp = np.tile(tas_array.mean(axis=0), (shape[0], 1, 1)) .reshape(shape[0]*shape[1], shape[2],shape[3])\n",
    "\n",
    "        if X is None:\n",
    "            X = X_temp[idxs,:]\n",
    "            y = y_temp[idxs,:]\n",
    "        else :\n",
    "            X = np.vstack((X, X_temp[idxs,:]))\n",
    "            y = np.vstack((y, y_temp[idxs,:]))\n",
    "        del tas_array\n",
    "        del X_temp\n",
    "        del y_temp\n",
    "    return X, y\n",
    "\n",
    "import numpy as np\n",
    "from scipy.signal import convolve2d\n",
    "\n",
    "def mean_convolution(Y, w=3, boundary='symm'):\n",
    "    # Create a 2D window of ones with size (w, w)\n",
    "    window = np.ones((w, w)) / (w * w)\n",
    "    \n",
    "    # Apply convolution along lat and lon dimensions\n",
    "    Y_convolve = np.zeros_like(Y)\n",
    "    for i in range(Y.shape[0]):\n",
    "        Y_convolve[i] = convolve2d(Y[i], window, mode='same', boundary=boundary)\n",
    "\n",
    "    return Y_convolve"
   ]
  },
  {
   "cell_type": "code",
   "execution_count": 4,
   "id": "e1c4acc8",
   "metadata": {},
   "outputs": [],
   "source": [
    "shape, lat, lon = get_data_shape_lat_lon()\n",
    "d = shape[2]*shape[3]"
   ]
  },
  {
   "cell_type": "code",
   "execution_count": 14,
   "id": "cac6a7e6",
   "metadata": {},
   "outputs": [],
   "source": [
    "X, Y = load_data_models(['CanESM5'], var='tas', n_sample=1000, path='../data/', coarse=1)"
   ]
  },
  {
   "cell_type": "code",
   "execution_count": 15,
   "id": "f3bf4028",
   "metadata": {},
   "outputs": [
    {
     "data": {
      "text/plain": [
       "((1000, 72, 144), (1000, 72, 144))"
      ]
     },
     "execution_count": 15,
     "metadata": {},
     "output_type": "execute_result"
    }
   ],
   "source": []
  },
  {
   "cell_type": "code",
   "execution_count": 60,
   "id": "4d744cd0",
   "metadata": {},
   "outputs": [
    {
     "name": "stderr",
     "output_type": "stream",
     "text": [
      "100%|██████████| 10/10 [01:58<00:00, 11.81s/it]\n"
     ]
    }
   ],
   "source": [
    "B = 10\n",
    "windows = [2, 3, 6, 8, 12]\n",
    "scores = {w:[] for w in windows}\n",
    "for b in tqdm(range(B)):\n",
    "    X, Y = load_data_models(['CanESM5'], var='tas', n_sample=1000, path='../data/', coarse=1)\n",
    "    shape = Y.shape\n",
    "    Y_reshaped = Y.reshape(shape[0], shape[1]*shape[2])\n",
    "    for w in windows:\n",
    "        Y_pred = mean_convolution(X, w=w, boundary='fill')\n",
    "        Y_pred_reshaped = Y_pred.reshape(shape[0], shape[1]*shape[2])\n",
    "        scores[w].append(r2_score(Y_reshaped, Y_pred_reshaped))"
   ]
  },
  {
   "cell_type": "code",
   "execution_count": 61,
   "id": "61c15d57",
   "metadata": {},
   "outputs": [
    {
     "data": {
      "image/png": "[encoded data removed]",
      "text/plain": [
       "<Figure size 640x480 with 1 Axes>"
      ]
     },
     "metadata": {},
     "output_type": "display_data"
    }
   ],
   "source": [
    "plt.boxplot([scores[w] for w in windows])\n",
    "# Boxplot\n",
    "# Set xticklabels with alpha values\n",
    "plt.xticks(range(1, len(windows) + 1), windows, rotation=45)\n",
    "\n",
    "# Set xlabel with alphas\n",
    "plt.xlabel(r'Models')\n",
    "\n",
    "# Set ylabel with r2 score\n",
    "plt.ylabel(r'$R^2$ Score')\n",
    "\n",
    "directory = '../Results'\n",
    "plt.savefig(directory + \"/R2_concolution_coarse.pdf\", format=\"pdf\", bbox_inches=\"tight\")\n",
    "\n",
    "plt.show()"
   ]
  },
  {
   "cell_type": "code",
   "execution_count": null,
   "id": "103be7be",
   "metadata": {},
   "outputs": [],
   "source": []
  }
 ],
 "metadata": {
  "kernelspec": {
   "display_name": "forcesmip",
   "language": "python",
   "name": "forcesmip"
  },
  "language_info": {
   "codemirror_mode": {
    "name": "ipython",
    "version": 3
   },
   "file_extension": ".py",
   "mimetype": "text/x-python",
   "name": "python",
   "nbconvert_exporter": "python",
   "pygments_lexer": "ipython3",
   "version": "3.9.18"
  }
 },
 "nbformat": 4,
 "nbformat_minor": 5
}
