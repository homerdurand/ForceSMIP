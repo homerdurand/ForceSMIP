{
 "cells": [
  {
   "cell_type": "code",
   "execution_count": 1,
   "id": "590e5e9a",
   "metadata": {},
   "outputs": [],
   "source": [
    "from matplotlib import pyplot as plt\n",
    "\n",
    "import xarray as xr\n",
    "import netCDF4 as nc\n",
    "import numpy as np\n",
    "\n",
    "import os\n",
    "\n",
    "import datetime as dt"
   ]
  },
  {
   "cell_type": "code",
   "execution_count": 2,
   "id": "22308146",
   "metadata": {},
   "outputs": [],
   "source": [
    "# Selecting low DIV for train and high DIV for test\n",
    "models = ['MIROC6', 'CESM2', 'CanESM5', 'MIROC-ES2L', 'MPI-ESM1-2-LR']\n",
    "ref_period = ('1850-01-01', '1900-01-01')\n",
    "coarsen_factor = 1\n",
    "time_scale = 'month' # Only yearly or montly"
   ]
  },
  {
   "cell_type": "code",
   "execution_count": 3,
   "id": "b0056ddc",
   "metadata": {},
   "outputs": [],
   "source": [
    "def load_data(models, var='tas', time_scale='month', ref_period=None, path='../../AnchorMultivariateAnalysis/data/ForceSMIP/Training/Amon/tas/ForceSMIP/', coarsen_factor=None) :\n",
    "    ensemble = {}\n",
    "    flag = True\n",
    "    for model in models:\n",
    "        print('## Model {}'.format(model))\n",
    "        # Loop through each file\n",
    "        directory = path + model\n",
    "        # Define the file path\n",
    "        listdir = os.listdir(directory)\n",
    "\n",
    "        data = None\n",
    "        ensemble[model] = {}\n",
    "        for i, file in enumerate(listdir, start=1):\n",
    "            if i > 40:\n",
    "                break\n",
    "            print('File {}/{}'.format(i,len(listdir)), end='\\r')\n",
    "            # Reading temperature file\n",
    "            ## Open the NetCDF file using xarray\n",
    "            file_path = os.path.join(directory, file)\n",
    "            ds = xr.open_dataset(file_path)\n",
    "            # Compute anomalies\n",
    "            if time_scale == 'month':\n",
    "                climatology = ds.groupby('time.month').mean(dim='time')\n",
    "                anomalies = ds.groupby('time.month') - climatology\n",
    "                \n",
    "            elif time_scale == 'year' :\n",
    "                # Extracting yearly avergaes\n",
    "                ds_yearly = ds.resample(time='1Y').mean()\n",
    "                # Calculate the mean over the reference period for each grid point\n",
    "                mean_ref_period = ds_yearly.sel(time=slice(ref_period[0], ref_period[1])).mean(dim='time')\n",
    "                anomalies = ds_yearly - mean_ref_period\n",
    "                            \n",
    "            if coarsen_factor is not None:\n",
    "                anomalies = anomalies.coarsen(lat=coarsen_factor, lon=coarsen_factor, boundary='trim').mean()\n",
    "            \n",
    "            if flag:\n",
    "                if time_scale=='year':\n",
    "                    ensemble['time'] = np.unique(anomalies['time'])\n",
    "                elif time_scale == 'month':\n",
    "                     ensemble['time'] = anomalies['time']\n",
    "                ensemble['lat'] = anomalies['lat'].values\n",
    "                ensemble['lon'] = anomalies['lon'].values  \n",
    "                flag = False\n",
    "\n",
    "            if data is None:\n",
    "                data = [anomalies[var].values]\n",
    "            else :\n",
    "                data.append(anomalies[var].values)\n",
    "\n",
    "            ds.close()\n",
    "        ensemble[model][var] = np.array(data)\n",
    "        print()\n",
    "    return ensemble\n",
    "\n",
    "def save_data(data, model='CanESM5', var='tas', data_path='../data/'):\n",
    "    n_members = data[model][var].shape[0]\n",
    "    # Create a NetCDF file\n",
    "    with nc.Dataset(data_path + '{}_tas.nc'.format(model), 'w') as f:\n",
    "        # Define dimensions\n",
    "        f.createDimension('n_members', n_members)\n",
    "        f.createDimension('time', len(data['time']))\n",
    "        f.createDimension('lat', len(data['lat']))\n",
    "        f.createDimension('lon', len(data['lon']))\n",
    "\n",
    "        # Create variables\n",
    "        members_var = f.createVariable('n_members', 'i4', ('n_members',))\n",
    "        time_var = f.createVariable('time', 'f8', ('time',))\n",
    "        lat_var = f.createVariable('lat', 'f4', ('lat',))\n",
    "        lon_var = f.createVariable('lon', 'f4', ('lon',))\n",
    "        tas_var = f.createVariable('tas', 'f4', ('n_members', 'time', 'lat', 'lon'))\n",
    "\n",
    "        # Assign data to variables\n",
    "        members_var[:] = np.arange(n_members)\n",
    "        time_var[:] = datetime_array = nc.date2num(np.array([dt.datetime(d['time.year'].values, d['time.month'].values, d['time.day'].values) for d in data['time']]), units='days since 1850-01-01 00:00:00', calendar='noleap')\n",
    "        lat_var[:] = data['lat']\n",
    "        lon_var[:] = data['lon']\n",
    "        tas_var[:] = data[model]['tas']\n",
    "\n",
    "        # Add attributes if necessary\n",
    "        members_var.units = 'member index'\n",
    "        time_var.units = 'time units'\n",
    "        lat_var.units = 'latitude units'\n",
    "        lon_var.units = 'longitude units'\n",
    "        tas_var.units = 'temperature units'"
   ]
  },
  {
   "cell_type": "code",
   "execution_count": 4,
   "id": "d11c56d4",
   "metadata": {},
   "outputs": [
    {
     "name": "stdout",
     "output_type": "stream",
     "text": [
      "## Model MIROC6\n",
      "File 40/50\n"
     ]
    }
   ],
   "source": [
    "for model in ['MIROC6'] :\n",
    "    data = load_data([model])\n",
    "    save_data(data, model=model, var='tas')"
   ]
  },
  {
   "cell_type": "code",
   "execution_count": 7,
   "id": "b0fb12a9",
   "metadata": {},
   "outputs": [],
   "source": [
    "shape = data['MIROC6']['tas'].shape\n",
    "data_reshaped = data['MIROC6']['tas'].reshape(shape[0]*shape[1], shape[2]*shape[3])"
   ]
  },
  {
   "cell_type": "code",
   "execution_count": 8,
   "id": "5d7ada9c",
   "metadata": {},
   "outputs": [
    {
     "data": {
      "text/plain": [
       "(68640, 10368)"
      ]
     },
     "execution_count": 8,
     "metadata": {},
     "output_type": "execute_result"
    }
   ],
   "source": [
    "data_reshaped.shape"
   ]
  },
  {
   "cell_type": "code",
   "execution_count": null,
   "id": "14672c24",
   "metadata": {},
   "outputs": [],
   "source": []
  }
 ],
 "metadata": {
  "kernelspec": {
   "display_name": "forcesmip",
   "language": "python",
   "name": "forcesmip"
  },
  "language_info": {
   "codemirror_mode": {
    "name": "ipython",
    "version": 3
   },
   "file_extension": ".py",
   "mimetype": "text/x-python",
   "name": "python",
   "nbconvert_exporter": "python",
   "pygments_lexer": "ipython3",
   "version": "3.9.18"
  }
 },
 "nbformat": 4,
 "nbformat_minor": 5
}
