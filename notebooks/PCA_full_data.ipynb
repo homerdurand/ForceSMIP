{
 "cells": [
  {
   "cell_type": "code",
   "execution_count": 3,
   "id": "43dff8a6",
   "metadata": {},
   "outputs": [],
   "source": [
    "import xarray as xr\n",
    "import pickle\n",
    "\n",
    "import numpy as np\n",
    "from sklearn.decomposition import PCA\n",
    "from sklearn.metrics import r2_score\n",
    "\n",
    "from tqdm import tqdm\n",
    "\n",
    "import dask\n",
    "import dask.array as da"
   ]
  },
  {
   "cell_type": "code",
   "execution_count": 4,
   "id": "e1e329b1",
   "metadata": {},
   "outputs": [],
   "source": [
    "models = ['MIROC6', 'CESM2', 'CanESM5', 'MIROC-ES2L', 'MPI-ESM1-2-LR']"
   ]
  },
  {
   "cell_type": "code",
   "execution_count": 5,
   "id": "edeace9a",
   "metadata": {},
   "outputs": [],
   "source": [
    "model = 'CanESM5'\n",
    "var = 'tas'\n",
    "\n",
    "def load_data(model='CanESM5', var='tas', dir_path='../data/'):\n",
    "    # Construct the filename\n",
    "    filename = '{}_{}.nc'.format(model, var)\n",
    "    # Load the NetCDF file using xarray\n",
    "    data = xr.open_dataset(dir_path + filename)\n",
    "    return data\n",
    "\n",
    "def fit_pca_exp_var(X, exp_var=0.99):\n",
    "    pca = PCA()\n",
    "    pca.fit(X)\n",
    "    explained_variance_ratio_cumulative = np.cumsum(pca.explained_variance_ratio_)\n",
    "    n_components = np.argmax(explained_variance_ratio_cumulative >= exp_var) + 1\n",
    "    pca_model = PCA(n_components=n_components)\n",
    "    pca_model.fit(X)\n",
    "\n",
    "    return pca_model.components_, n_components"
   ]
  },
  {
   "cell_type": "markdown",
   "id": "dabe0c07",
   "metadata": {},
   "source": [
    "## Generate PCA for each memeber of each model"
   ]
  },
  {
   "cell_type": "code",
   "execution_count": 4,
   "id": "10786df2",
   "metadata": {},
   "outputs": [
    {
     "name": "stderr",
     "output_type": "stream",
     "text": [
      "100%|███████████████████████████████████████████████████████████████████████████████████████████████████████████████████████████████████████████████████████| 40/40 [09:37<00:00, 14.45s/it]\n",
      "100%|███████████████████████████████████████████████████████████████████████████████████████████████████████████████████████████████████████████████████████| 50/50 [11:54<00:00, 14.29s/it]\n",
      "100%|███████████████████████████████████████████████████████████████████████████████████████████████████████████████████████████████████████████████████████| 25/25 [06:02<00:00, 14.51s/it]\n",
      "100%|███████████████████████████████████████████████████████████████████████████████████████████████████████████████████████████████████████████████████████| 30/30 [06:55<00:00, 13.86s/it]\n",
      "100%|███████████████████████████████████████████████████████████████████████████████████████████████████████████████████████████████████████████████████████| 30/30 [09:21<00:00, 18.71s/it]\n"
     ]
    }
   ],
   "source": [
    "pca_weights = {}\n",
    "for model in models:\n",
    "    data = load_data(model)\n",
    "    shape = data['tas'].shape\n",
    "    data = data['tas'].values.reshape(shape[0], shape[1], shape[2]*shape[3])\n",
    "    pca_weights[model] = None\n",
    "    for data_member in tqdm(data) :\n",
    "        if pca_weights[model] is None:\n",
    "            pca_weights[model], _ = fit_pca_exp_var(data_member)\n",
    "        else :\n",
    "            pca_weights[model] = np.vstack((pca_weights[model], fit_pca_exp_var(data_member)[0]))\n",
    "        "
   ]
  },
  {
   "cell_type": "code",
   "execution_count": 7,
   "id": "a75bf5ff",
   "metadata": {},
   "outputs": [],
   "source": [
    "# Filepath to save the pickle file\n",
    "pickle_filepath = '../data/weights_pca_byModels.pkl'\n",
    "\n",
    "# Save the dictionary to a pickle file\n",
    "with open(pickle_filepath, 'wb') as f:\n",
    "    pickle.dump(pca_weights, f)"
   ]
  },
  {
   "cell_type": "markdown",
   "id": "68d78a44",
   "metadata": {},
   "source": [
    "## Loading all PCs"
   ]
  },
  {
   "cell_type": "code",
   "execution_count": 3,
   "id": "a882373a",
   "metadata": {},
   "outputs": [],
   "source": [
    "# Filepath to save the pickle file\n",
    "pickle_filepath = '../data/weights_pca_byModels.pkl'\n",
    "\n",
    "# Load the dictionary from the pickle file\n",
    "with open(pickle_filepath, 'rb') as f:\n",
    "    pca_weights = pickle.load(f)\n"
   ]
  },
  {
   "cell_type": "code",
   "execution_count": 4,
   "id": "ba9845c6",
   "metadata": {},
   "outputs": [
    {
     "data": {
      "text/plain": [
       "(12227, 10368)"
      ]
     },
     "execution_count": 4,
     "metadata": {},
     "output_type": "execute_result"
    }
   ],
   "source": [
    "pca_weights['CanESM5'].shape"
   ]
  },
  {
   "cell_type": "code",
   "execution_count": 6,
   "id": "c732a2c2",
   "metadata": {},
   "outputs": [],
   "source": [
    "pca_tot = None\n",
    "for model in models:\n",
    "    if pca_tot is None:\n",
    "        pca_tot = pca_weights[model]\n",
    "    else:\n",
    "        pca_tot = np.vstack((pca_tot, pca_weights[model]))"
   ]
  },
  {
   "cell_type": "code",
   "execution_count": 7,
   "id": "a42499c3",
   "metadata": {},
   "outputs": [],
   "source": [
    "# Filepath to save the pickle file\n",
    "pickle_filepath = '../data/weights_pca_tot.pkl'\n",
    "\n",
    "# Save the dictionary to a pickle file\n",
    "with open(pickle_filepath, 'wb') as f:\n",
    "    pickle.dump(pca_tot, f)"
   ]
  },
  {
   "cell_type": "markdown",
   "id": "98a4dd78",
   "metadata": {},
   "source": [
    "## Averaging all PCs"
   ]
  },
  {
   "cell_type": "code",
   "execution_count": 4,
   "id": "762273bb",
   "metadata": {},
   "outputs": [],
   "source": [
    "# Filepath to save the pickle file\n",
    "pickle_filepath = '../data/weights_pca_tot.pkl'\n",
    "\n",
    "# Load the dictionary from the pickle file\n",
    "with open(pickle_filepath, 'rb') as f:\n",
    "    pca_weights_tot = pickle.load(f)\n"
   ]
  },
  {
   "cell_type": "code",
   "execution_count": 5,
   "id": "45f56d68",
   "metadata": {},
   "outputs": [
    {
     "data": {
      "text/plain": [
       "(91009, 10368)"
      ]
     },
     "execution_count": 5,
     "metadata": {},
     "output_type": "execute_result"
    }
   ],
   "source": [
    "pca_weights_tot.shape"
   ]
  },
  {
   "cell_type": "code",
   "execution_count": 10,
   "id": "1b74b7d6",
   "metadata": {},
   "outputs": [],
   "source": [
    "weights_da = da.from_array(pca_weights_tot, chunks=(500, 500)).persist()\n",
    "u, s, v = da.linalg.svd_compressed(weights_da, k=ncp)\n",
    "u_svd = u.compute()"
   ]
  },
  {
   "cell_type": "code",
   "execution_count": 13,
   "id": "d4448c6a",
   "metadata": {},
   "outputs": [],
   "source": [
    "# Filepath to save the pickle file\n",
    "pickle_filepath = '../data/u_svd_{}.pkl'.format(ncp)\n",
    "\n",
    "# Save the dictionary to a pickle file\n",
    "with open(pickle_filepath, 'wb') as f:\n",
    "    pickle.dump(u_svd, f)"
   ]
  },
  {
   "cell_type": "markdown",
   "id": "75e7f687",
   "metadata": {},
   "source": [
    "# Checking reconstruction error for each model"
   ]
  },
  {
   "cell_type": "code",
   "execution_count": 6,
   "id": "4f9873bc",
   "metadata": {},
   "outputs": [],
   "source": [
    "ncp = 1700\n",
    "# Filepath to save the pickle file\n",
    "pickle_filepath = '../data/u_svd_{}.pkl'.format(ncp)\n",
    "\n",
    "# Load the dictionary from the pickle file\n",
    "with open(pickle_filepath, 'rb') as f:\n",
    "    U_svd = pickle.load(f)\n"
   ]
  },
  {
   "cell_type": "code",
   "execution_count": 7,
   "id": "2e8af3b3",
   "metadata": {},
   "outputs": [
    {
     "data": {
      "text/plain": [
       "(10368, 1700)"
      ]
     },
     "execution_count": 7,
     "metadata": {},
     "output_type": "execute_result"
    }
   ],
   "source": [
    "U_svd.shape"
   ]
  },
  {
   "cell_type": "code",
   "execution_count": 8,
   "id": "23c2bc1b",
   "metadata": {},
   "outputs": [
    {
     "name": "stderr",
     "output_type": "stream",
     "text": [
      " 20%|███████████▌                                              | 1/5 [01:25<05:42, 85.68s/it]"
     ]
    },
    {
     "name": "stdout",
     "output_type": "stream",
     "text": [
      "MIROC6 : 0.8693\n"
     ]
    },
    {
     "name": "stderr",
     "output_type": "stream",
     "text": [
      "\r",
      " 40%|██████████████████████▊                                  | 2/5 [03:16<05:01, 100.64s/it]"
     ]
    },
    {
     "name": "stdout",
     "output_type": "stream",
     "text": [
      "CESM2 : 0.8841\n"
     ]
    },
    {
     "name": "stderr",
     "output_type": "stream",
     "text": [
      "\r",
      " 60%|██████████████████████████████████▊                       | 3/5 [04:12<02:40, 80.05s/it]"
     ]
    },
    {
     "name": "stdout",
     "output_type": "stream",
     "text": [
      "CanESM5 : 0.8647\n"
     ]
    },
    {
     "name": "stderr",
     "output_type": "stream",
     "text": [
      "\r",
      " 80%|██████████████████████████████████████████████▍           | 4/5 [05:20<01:15, 75.21s/it]"
     ]
    },
    {
     "name": "stdout",
     "output_type": "stream",
     "text": [
      "MIROC-ES2L : 0.8934\n"
     ]
    },
    {
     "name": "stderr",
     "output_type": "stream",
     "text": [
      "100%|██████████████████████████████████████████████████████████| 5/5 [07:02<00:00, 84.58s/it]"
     ]
    },
    {
     "name": "stdout",
     "output_type": "stream",
     "text": [
      "MPI-ESM1-2-LR : 0.8811\n"
     ]
    },
    {
     "name": "stderr",
     "output_type": "stream",
     "text": [
      "\n"
     ]
    }
   ],
   "source": [
    "R2_score = {}\n",
    "for model in tqdm(models):\n",
    "    data = load_data(model)\n",
    "    shape = data['tas'].values.shape\n",
    "    data = data['tas'].values.reshape(shape[0] * shape[1], shape[2]*shape[3])\n",
    "    score = r2_score(data, data @ U_svd @ U_svd.T)\n",
    "    R2_score[model] = score\n",
    "    print('{} : {:.4f}'.format(model, score))"
   ]
  },
  {
   "cell_type": "code",
   "execution_count": null,
   "id": "0b7cc2b3",
   "metadata": {},
   "outputs": [],
   "source": [
    "R2_score"
   ]
  },
  {
   "cell_type": "code",
   "execution_count": 8,
   "id": "ab4b2a0f",
   "metadata": {},
   "outputs": [],
   "source": [
    "pred = data @ U_svd @ U_svd.T"
   ]
  },
  {
   "cell_type": "code",
   "execution_count": 9,
   "id": "0d022ca6",
   "metadata": {},
   "outputs": [],
   "source": [
    "norm_squared_error = np.square(data - pred)/data.std(axis=0)"
   ]
  },
  {
   "cell_type": "code",
   "execution_count": 10,
   "id": "d60b7266",
   "metadata": {},
   "outputs": [
    {
     "data": {
      "text/plain": [
       "0.124717146"
      ]
     },
     "execution_count": 10,
     "metadata": {},
     "output_type": "execute_result"
    }
   ],
   "source": [
    "norm_squared_error.mean()"
   ]
  },
  {
   "cell_type": "markdown",
   "id": "ed790972",
   "metadata": {},
   "source": [
    "R scores with 500 components:\n",
    "* 'MIROC6': 0.15463808841121343\n",
    "* 'CESM2': 0.25730109286952235\n",
    "* 'CanESM5': 0.16130914040262692\n",
    "* 'MIROC-ES2L': 0.24384597125343987\n",
    "* 'MPI-ESM1-2-LR': 0.2719510349765452\n",
    "\n",
    "R scores with 1000 components:\n",
    "* 'MIROC6': 0.6283942208620207\n",
    "* 'CESM2': 0.6675412160174118\n",
    "* 'CanESM5': 0.6126835256801059\n",
    "* 'MIROC-ES2L': 0.6761468489553218\n",
    "* 'MPI-ESM1-2-LR': 0.670252727064077\n",
    "\n",
    "R scores with 1500 components:\n",
    "* 'MIROC6': 0.8291237074387285,\n",
    "* 'CESM2': 0.8465464364503251,\n",
    "* 'CanESM5': 0.8220316854023593,\n",
    "* 'MIROC-ES2L': 0.858213227174884,\n",
    "* 'MPI-ESM1-2-LR': 0.8450816809323174"
   ]
  },
  {
   "cell_type": "code",
   "execution_count": null,
   "id": "a7855ebc",
   "metadata": {},
   "outputs": [],
   "source": []
  }
 ],
 "metadata": {
  "kernelspec": {
   "display_name": "Python 3 (ipykernel)",
   "language": "python",
   "name": "python3"
  },
  "language_info": {
   "codemirror_mode": {
    "name": "ipython",
    "version": 3
   },
   "file_extension": ".py",
   "mimetype": "text/x-python",
   "name": "python",
   "nbconvert_exporter": "python",
   "pygments_lexer": "ipython3",
   "version": "3.10.6"
  }
 },
 "nbformat": 4,
 "nbformat_minor": 5
}
