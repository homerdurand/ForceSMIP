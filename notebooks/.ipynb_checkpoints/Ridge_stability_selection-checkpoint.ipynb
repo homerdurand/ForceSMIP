{
 "cells": [
  {
   "cell_type": "code",
   "execution_count": 1,
   "id": "6271f056",
   "metadata": {},
   "outputs": [],
   "source": [
    "from matplotlib import pyplot as plt\n",
    "\n",
    "import xarray as xr\n",
    "import netCDF4 as nc\n",
    "import numpy as np\n",
    "\n",
    "import os\n",
    "\n",
    "import datetime as dt\n",
    "import pickle\n",
    "\n",
    "from sklearn.model_selection import train_test_split\n",
    "from sklearn.linear_model import RidgeCV, Ridge, LinearRegression, Lasso, ElasticNet\n",
    "from sklearn.metrics import r2_score\n",
    "import random\n",
    "from tqdm import tqdm\n",
    "from collections import Counter"
   ]
  },
  {
   "cell_type": "code",
   "execution_count": 2,
   "id": "91bc34d8",
   "metadata": {},
   "outputs": [],
   "source": [
    "models = ['CanESM5', 'MIROC-ES2L', 'MPI-ESM1-2-LR', 'MIROC6', 'CESM2']"
   ]
  },
  {
   "cell_type": "code",
   "execution_count": 3,
   "id": "000cc424",
   "metadata": {},
   "outputs": [],
   "source": [
    "def load_model_data(model, var, path='../data/'):\n",
    "    # Loading data file\n",
    "    file_path = os.path.join(path, '{}_{}.nc'.format(model, var))\n",
    "    ds = xr.open_dataset(file_path)\n",
    "    # Getting TAS\n",
    "    tas_array = ds[var].values\n",
    "    # Close the dataset\n",
    "    ds.close()\n",
    "    return tas_array\n",
    "\n",
    "def load_data_models(models, var='tas', n_sample=10, path='../data/'):\n",
    "    X, y = None, None\n",
    "    for model in models:\n",
    "        tas_array = load_model_data(model, var=var, path=path)\n",
    "        shape = tas_array.shape\n",
    "        \n",
    "        idxs = random.sample(range(shape[0]*shape[1]), n_sample)\n",
    "        X_temp = tas_array.reshape(shape[0]*shape[1], shape[2]*shape[3])\n",
    "        y_temp = np.tile(tas_array.mean(axis=0), (shape[0], 1, 1)) .reshape(shape[0]*shape[1], shape[2]*shape[3])\n",
    "\n",
    "        if X is None:\n",
    "            X = X_temp[idxs,:]\n",
    "            y = y_temp[idxs,:]\n",
    "        else :\n",
    "            X = np.vstack((X, X_temp[idxs,:]))\n",
    "            y = np.vstack((y, y_temp[idxs,:]))\n",
    "        del tas_array\n",
    "        del X_temp\n",
    "        del y_temp\n",
    "    return X, y"
   ]
  },
  {
   "cell_type": "code",
   "execution_count": null,
   "id": "5c4d9586",
   "metadata": {},
   "outputs": [],
   "source": [
    "B = 20\n",
    "models_test = random.choices(models, k=B)\n",
    "models_train = [[model for model in models if model != model_test ] for model_test in models_test ]"
   ]
  },
  {
   "cell_type": "code",
   "execution_count": null,
   "id": "a7e7c867",
   "metadata": {},
   "outputs": [],
   "source": [
    "occurence_models_test = Counter(models_test)"
   ]
  },
  {
   "cell_type": "code",
   "execution_count": null,
   "id": "7f6cbfdf",
   "metadata": {},
   "outputs": [],
   "source": [
    "occurence_models_test"
   ]
  },
  {
   "cell_type": "code",
   "execution_count": 5,
   "id": "49d59491",
   "metadata": {},
   "outputs": [],
   "source": [
    "N = 2500\n",
    "n_alpha = 10\n",
    "alphas = np.logspace(2, 6, n_alpha)"
   ]
  },
  {
   "cell_type": "code",
   "execution_count": null,
   "id": "2f487611",
   "metadata": {
    "scrolled": false
   },
   "outputs": [],
   "source": [
    "for alpha in tqdm(alphas):\n",
    "    weights = {model: None for model in models}\n",
    "    for m_train, m_test in zip(models_train, models_test):\n",
    "        print(m_test)\n",
    "        X_train, Y_train = load_data_models(m_train, n_sample=N)\n",
    "        X_test, Y_test = load_data_models([m_test], n_sample=N)\n",
    "        ridge = Ridge(alpha)\n",
    "        ridge.fit(X_train, Y_train)\n",
    "        if weights[m_test] is None:\n",
    "            weights[m_test] = np.hstack((ridge.coef_/occurence_models_test[m_test], (ridge.intercept_/occurence_models_test[m_test])[:,None]))\n",
    "        else:\n",
    "            weights[m_test] += np.hstack((ridge.coef_/occurence_models_test[m_test], (ridge.intercept_/occurence_models_test[m_test])[:,None]))\n",
    "    \n",
    "    # Save the weights for this alpha to a file\n",
    "    file_path = f'../weights/Ridge_weights_alpha_{alpha}_n{N}.pkl'\n",
    "    with open(file_path, 'wb') as f:\n",
    "        pickle.dump(weights, f)"
   ]
  },
  {
   "cell_type": "code",
   "execution_count": null,
   "id": "5de6762f",
   "metadata": {},
   "outputs": [
    {
     "name": "stderr",
     "output_type": "stream",
     "text": [
      "\r",
      "  0%|                                                               | 0/7 [00:00<?, ?it/s]"
     ]
    }
   ],
   "source": [
    "N=500\n",
    "scores = {}\n",
    "scores_pattern = {}\n",
    "for alpha in tqdm(alphas[3:]):\n",
    "    scores[alpha] = []\n",
    "    scores_pattern[alpha] = np.zeros(X_test.shape[1])\n",
    "    for model in models:\n",
    "        file_path = f'../weights/Ridge_weights_alpha_{alpha}_n{N}.pkl'\n",
    "        try:\n",
    "            with open(file_path, 'rb') as f:\n",
    "                weights = pickle.load(f)\n",
    "            X_test, Y_test = load_data_models([model], var='tas')\n",
    "            A, B = weights[model][:,:-1], weights[model][:,-1]\n",
    "            Y_pred = X_test @ A.T + B \n",
    "            score_pattern = r2_score(Y_test, Y_pred, multioutput='raw_values')\n",
    "            scores_pattern[alpha] += score_pattern/len(models)\n",
    "            scores[alpha].append(score_pattern.mean())\n",
    "        except FileNotFoundError:\n",
    "            print(f\"File for alpha={alpha} and model={model} not found.\")\n"
   ]
  },
  {
   "cell_type": "code",
   "execution_count": null,
   "id": "eba4ddec",
   "metadata": {},
   "outputs": [],
   "source": [
    "import matplotlib.pyplot as plt\n",
    "\n",
    "# Extract scores for each alpha\n",
    "data = [scores[alpha] for alpha in alphas]\n",
    "\n",
    "# Boxplot\n",
    "plt.boxplot(data)\n",
    "\n",
    "# Set xticklabels with alpha values\n",
    "plt.xticks(range(1, len(alphas) + 1), [f'{alpha:.0f}' for alpha in alphas], rotation=45)\n",
    "\n",
    "# Set xlabel with alphas\n",
    "plt.xlabel(r'$\\alpha$')\n",
    "\n",
    "# Set ylabel with r2 score\n",
    "plt.ylabel(r'$R^2$ Score')\n",
    "\n",
    "plt.show()\n"
   ]
  },
  {
   "cell_type": "code",
   "execution_count": null,
   "id": "6e13b6b8",
   "metadata": {},
   "outputs": [],
   "source": [
    "mean_scores = {alpha: np.mean(scores[alpha]) for alpha in alphas}"
   ]
  },
  {
   "cell_type": "code",
   "execution_count": null,
   "id": "e514f62b",
   "metadata": {},
   "outputs": [],
   "source": [
    "alpha_opt = alphas[np.argmax(list(mean_scores.values()))]"
   ]
  },
  {
   "cell_type": "code",
   "execution_count": null,
   "id": "d1589d26",
   "metadata": {},
   "outputs": [],
   "source": []
  }
 ],
 "metadata": {
  "kernelspec": {
   "display_name": "Python 3 (ipykernel)",
   "language": "python",
   "name": "python3"
  },
  "language_info": {
   "codemirror_mode": {
    "name": "ipython",
    "version": 3
   },
   "file_extension": ".py",
   "mimetype": "text/x-python",
   "name": "python",
   "nbconvert_exporter": "python",
   "pygments_lexer": "ipython3",
   "version": "3.10.6"
  }
 },
 "nbformat": 4,
 "nbformat_minor": 5
}
