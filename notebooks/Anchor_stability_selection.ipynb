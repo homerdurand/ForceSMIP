{
 "cells": [
  {
   "cell_type": "code",
   "execution_count": 1,
   "id": "6271f056",
   "metadata": {},
   "outputs": [],
   "source": [
    "from matplotlib import pyplot as plt\n",
    "\n",
    "import xarray as xr\n",
    "import netCDF4 as nc\n",
    "import numpy as np\n",
    "\n",
    "import os\n",
    "\n",
    "import datetime as dt\n",
    "import pickle\n",
    "\n",
    "from sklearn.model_selection import train_test_split\n",
    "from sklearn.linear_model import RidgeCV, Ridge, LinearRegression, Lasso, ElasticNet\n",
    "from sklearn.kernel_ridge import KernelRidge\n",
    "from sklearn.metrics import r2_score\n",
    "import random\n",
    "from tqdm import tqdm\n",
    "from collections import Counter\n",
    "from AnchorOptimalProjector import *"
   ]
  },
  {
   "cell_type": "code",
   "execution_count": 2,
   "id": "91bc34d8",
   "metadata": {},
   "outputs": [],
   "source": [
    "models = ['CanESM5', 'MIROC-ES2L', 'MPI-ESM1-2-LR', 'MIROC6', 'CESM2']"
   ]
  },
  {
   "cell_type": "code",
   "execution_count": 3,
   "id": "000cc424",
   "metadata": {},
   "outputs": [],
   "source": [
    "def load_model_data(model, var, path='../data/'):\n",
    "    # Loading data file\n",
    "    file_path = os.path.join(path, '{}_{}.nc'.format(model, var))\n",
    "    ds = xr.open_dataset(file_path)\n",
    "    # Getting TAS\n",
    "    tas_array = ds[var].values\n",
    "    # Close the dataset\n",
    "    ds.close()\n",
    "    return tas_array\n",
    "\n",
    "def get_data_shape_lat_lon(model='CanESM5', var='tas', path='../data/'):\n",
    "    file_path = os.path.join(path, '{}_{}.nc'.format(model, var))\n",
    "    ds = xr.open_dataset(file_path)\n",
    "    # Getting TAS\n",
    "    shape = ds[var].values.shape\n",
    "    # Close the dataset\n",
    "    ds.close()\n",
    "    return shape, ds['lat'], ds['lon']\n",
    "\n",
    "def load_data_models(models, var='tas', n_sample=10, path='../data/', coarse=12, window_size=10):\n",
    "    X, y = None, None\n",
    "    for model in models:\n",
    "        tas_array = load_model_data(model, var=var, path=path)\n",
    "        shape = tas_array.shape\n",
    "        \n",
    "        idxs = random.sample(range(shape[0]*shape[1]), n_sample)\n",
    "        tas_regional = tas_array.reshape(shape[0], shape[1], shape[2]//coarse, coarse, shape[3]//coarse, coarse)\n",
    "        X_temp = tas_regional.mean(axis=(3, 5))\n",
    "        rmt = X_temp.mean(axis=0)\n",
    "        # Calculate regional internal variability\n",
    "        riv = rmt - X_temp\n",
    "        # Create a 1D convolution kernel for the moving average\n",
    "        kernel = np.ones(window_size) / window_size\n",
    "        # Smooth the regional internal variability using a moving average\n",
    "        A_temp = np.apply_along_axis(lambda x: np.convolve(x, kernel, mode='same'), axis=1, arr=riv)\n",
    "            \n",
    "            \n",
    "        X_temp = X_temp.reshape(shape[0]*shape[1], shape[2]*shape[3]//(coarse**2))\n",
    "        y_temp = np.tile(tas_array.mean(axis=0), (shape[0], 1, 1)).reshape(shape[0]*shape[1], shape[2]*shape[3])\n",
    "        A_temp = A_temp.reshape(shape[0]*shape[1], shape[2]*shape[3]//(coarse**2))\n",
    "\n",
    "        if X is None:\n",
    "            X = X_temp[idxs,:]\n",
    "            y = y_temp[idxs,:]\n",
    "            A = A_temp[idxs, :] \n",
    "        else :\n",
    "            X = np.vstack((X, X_temp[idxs,:]))\n",
    "            y = np.vstack((y, y_temp[idxs,:]))\n",
    "            A = np.vstack((A, A_temp[idxs,:]))\n",
    "        del tas_array\n",
    "        del X_temp\n",
    "        del y_temp\n",
    "        del A_temp\n",
    "    return A, X, y"
   ]
  },
  {
   "cell_type": "code",
   "execution_count": 4,
   "id": "e1c4acc8",
   "metadata": {},
   "outputs": [],
   "source": [
    "shape, lat, lon = get_data_shape_lat_lon()\n",
    "d = shape[2]*shape[3]"
   ]
  },
  {
   "cell_type": "code",
   "execution_count": 5,
   "id": "5c4d9586",
   "metadata": {},
   "outputs": [],
   "source": [
    "B = 50\n",
    "models_test = random.choices(models, k=B)\n",
    "models_train = [[model for model in models if model != model_test ] for model_test in models_test ]"
   ]
  },
  {
   "cell_type": "code",
   "execution_count": 6,
   "id": "a7e7c867",
   "metadata": {},
   "outputs": [],
   "source": [
    "occurence_models_test = Counter(models_test)"
   ]
  },
  {
   "cell_type": "code",
   "execution_count": 7,
   "id": "e632294c",
   "metadata": {},
   "outputs": [
    {
     "data": {
      "text/plain": [
       "Counter({'MIROC6': 12,\n",
       "         'CESM2': 9,\n",
       "         'MIROC-ES2L': 9,\n",
       "         'CanESM5': 9,\n",
       "         'MPI-ESM1-2-LR': 11})"
      ]
     },
     "execution_count": 7,
     "metadata": {},
     "output_type": "execute_result"
    }
   ],
   "source": [
    "occurence_models_test"
   ]
  },
  {
   "cell_type": "code",
   "execution_count": 8,
   "id": "49d59491",
   "metadata": {},
   "outputs": [],
   "source": [
    "N = 200\n",
    "n_alpha = 5\n",
    "alphas = np.logspace(1, 3, n_alpha)\n",
    "coarse = 72\n",
    "n_cv = 2\n",
    "gammas = [1, 2, 5]"
   ]
  },
  {
   "cell_type": "code",
   "execution_count": 9,
   "id": "0b970a01",
   "metadata": {},
   "outputs": [
    {
     "name": "stdout",
     "output_type": "stream",
     "text": [
      "Weights does not exists!\n"
     ]
    }
   ],
   "source": [
    "try :\n",
    "    directory = '../weights/'\n",
    "    file = 'Anchor_weights_stability_n{}_coarse{}.pkl'.format(N, coarse)\n",
    "    with open(directory + file, 'rb') as f:\n",
    "        weights = pickle.load(f)\n",
    "except:\n",
    "    print('Weights does not exists!')\n",
    "    weights = {model:{gamma : {'weights':None, 'n_samples': N*occurence_models_test[model]} for gamma in gammas} for model in models}\n",
    "    \n",
    "for model in models : \n",
    "    for gamma in gammas :\n",
    "        if gamma not in weights[model].keys():\n",
    "            weights[model][gamma]['weights'] = None\n",
    "            weights[model][gamma]['n_samples'] = N*occurence_models_test[model]"
   ]
  },
  {
   "cell_type": "code",
   "execution_count": 10,
   "id": "3836780c",
   "metadata": {},
   "outputs": [
    {
     "data": {
      "text/plain": [
       "{'CanESM5': {1: {'weights': None, 'n_samples': 1800},\n",
       "  2: {'weights': None, 'n_samples': 1800},\n",
       "  5: {'weights': None, 'n_samples': 1800}},\n",
       " 'MIROC-ES2L': {1: {'weights': None, 'n_samples': 1800},\n",
       "  2: {'weights': None, 'n_samples': 1800},\n",
       "  5: {'weights': None, 'n_samples': 1800}},\n",
       " 'MPI-ESM1-2-LR': {1: {'weights': None, 'n_samples': 2200},\n",
       "  2: {'weights': None, 'n_samples': 2200},\n",
       "  5: {'weights': None, 'n_samples': 2200}},\n",
       " 'MIROC6': {1: {'weights': None, 'n_samples': 2400},\n",
       "  2: {'weights': None, 'n_samples': 2400},\n",
       "  5: {'weights': None, 'n_samples': 2400}},\n",
       " 'CESM2': {1: {'weights': None, 'n_samples': 1800},\n",
       "  2: {'weights': None, 'n_samples': 1800},\n",
       "  5: {'weights': None, 'n_samples': 1800}}}"
      ]
     },
     "execution_count": 10,
     "metadata": {},
     "output_type": "execute_result"
    }
   ],
   "source": [
    "weights"
   ]
  },
  {
   "cell_type": "code",
   "execution_count": 11,
   "id": "2f487611",
   "metadata": {
    "scrolled": true
   },
   "outputs": [
    {
     "name": "stderr",
     "output_type": "stream",
     "text": [
      "  0%|          | 0/50 [00:00<?, ?it/s]"
     ]
    },
    {
     "name": "stdout",
     "output_type": "stream",
     "text": [
      "Extracting data...\r"
     ]
    },
    {
     "name": "stdout",
     "output_type": "stream",
     "text": [
      "Data extracted!\n",
      "Data transformed!g data with AOP...\n",
      "Selected alpha : 10.0mma$=1.0)...\n",
      "Ridge regression fitted!\n",
      "Weights saved!...\n",
      "Selected alpha : 10.0mma$=2.0)...\n",
      "Ridge regression fitted!\n",
      "Weights saved!...\n",
      "Training anchor ($\\gamma$=5.0)...\r"
     ]
    },
    {
     "name": "stderr",
     "output_type": "stream",
     "text": [
      "  2%|▏         | 1/50 [00:39<31:56, 39.12s/it]"
     ]
    },
    {
     "name": "stdout",
     "output_type": "stream",
     "text": [
      "Selected alpha : 31.622776601683793\n",
      "Ridge regression fitted!\n",
      "Weights saved!...\n",
      "Data extracted!...\n",
      "Data transformed!g data with AOP...\n",
      "Selected alpha : 31.622776601683793\n",
      "Ridge regression fitted!\n",
      "Weights saved!...\n",
      "Selected alpha : 31.622776601683793\n",
      "Ridge regression fitted!\n",
      "Weights saved!...\n",
      "Training anchor ($\\gamma$=5.0)...\r"
     ]
    },
    {
     "name": "stderr",
     "output_type": "stream",
     "text": [
      "  4%|▍         | 2/50 [01:18<31:34, 39.46s/it]"
     ]
    },
    {
     "name": "stdout",
     "output_type": "stream",
     "text": [
      "Selected alpha : 31.622776601683793\n",
      "Ridge regression fitted!\n",
      "Weights saved!...\n",
      "Data extracted!...\n",
      "Data transformed!g data with AOP...\n",
      "Selected alpha : 31.622776601683793\n",
      "Ridge regression fitted!\n",
      "Weights saved!...\n",
      "Selected alpha : 31.622776601683793\n",
      "Ridge regression fitted!\n",
      "Weights saved!...\n",
      "Training anchor ($\\gamma$=5.0)...\r"
     ]
    },
    {
     "name": "stderr",
     "output_type": "stream",
     "text": [
      "  6%|▌         | 3/50 [01:58<31:00, 39.59s/it]"
     ]
    },
    {
     "name": "stdout",
     "output_type": "stream",
     "text": [
      "Selected alpha : 100.0\n",
      "Ridge regression fitted!\n",
      "Weights saved!...\n",
      "Data extracted!...\n",
      "Data transformed!g data with AOP...\n",
      "Selected alpha : 31.622776601683793\n",
      "Ridge regression fitted!\n",
      "Weights saved!...\n",
      "Selected alpha : 31.622776601683793\n",
      "Ridge regression fitted!\n",
      "Weights saved!...\n",
      "Training anchor ($\\gamma$=5.0)...\r"
     ]
    },
    {
     "name": "stderr",
     "output_type": "stream",
     "text": [
      "  8%|▊         | 4/50 [02:31<28:28, 37.14s/it]"
     ]
    },
    {
     "name": "stdout",
     "output_type": "stream",
     "text": [
      "Selected alpha : 31.622776601683793\n",
      "Ridge regression fitted!\n",
      "Weights saved!...\n",
      "Data extracted!...\n",
      "Data transformed!g data with AOP...\n",
      "Selected alpha : 10.0mma$=1.0)...\n",
      "Ridge regression fitted!\n",
      "Weights saved!...\n",
      "Selected alpha : 31.622776601683793\n",
      "Ridge regression fitted!\n",
      "Weights saved!...\n",
      "Training anchor ($\\gamma$=5.0)...\r"
     ]
    },
    {
     "name": "stderr",
     "output_type": "stream",
     "text": [
      " 10%|█         | 5/50 [03:06<27:07, 36.17s/it]"
     ]
    },
    {
     "name": "stdout",
     "output_type": "stream",
     "text": [
      "Selected alpha : 100.0\n",
      "Ridge regression fitted!\n",
      "Weights saved!...\n",
      "Data extracted!...\n",
      "Data transformed!g data with AOP...\n",
      "Selected alpha : 10.0mma$=1.0)...\n",
      "Ridge regression fitted!\n",
      "Weights saved!...\n",
      "Selected alpha : 31.622776601683793\n",
      "Ridge regression fitted!\n",
      "Weights saved!...\n",
      "Training anchor ($\\gamma$=5.0)...\r"
     ]
    },
    {
     "name": "stderr",
     "output_type": "stream",
     "text": [
      " 12%|█▏        | 6/50 [03:40<25:57, 35.39s/it]"
     ]
    },
    {
     "name": "stdout",
     "output_type": "stream",
     "text": [
      "Selected alpha : 31.622776601683793\n",
      "Ridge regression fitted!\n",
      "Weights saved!...\n",
      "Data extracted!...\n",
      "Data transformed!g data with AOP...\n",
      "Selected alpha : 31.622776601683793\n",
      "Ridge regression fitted!\n",
      "Weights saved!...\n",
      "Selected alpha : 31.622776601683793\n",
      "Ridge regression fitted!\n",
      "Weights saved!...\n",
      "Training anchor ($\\gamma$=5.0)...\r"
     ]
    },
    {
     "name": "stderr",
     "output_type": "stream",
     "text": [
      " 14%|█▍        | 7/50 [04:18<25:54, 36.16s/it]"
     ]
    },
    {
     "name": "stdout",
     "output_type": "stream",
     "text": [
      "Selected alpha : 100.0\n",
      "Ridge regression fitted!\n",
      "Weights saved!...\n",
      "Data extracted!...\n",
      "Data transformed!g data with AOP...\n",
      "Selected alpha : 10.0mma$=1.0)...\n",
      "Ridge regression fitted!\n",
      "Weights saved!...\n",
      "Selected alpha : 31.622776601683793\n",
      "Ridge regression fitted!\n",
      "Weights saved!...\n",
      "Training anchor ($\\gamma$=5.0)...\r"
     ]
    },
    {
     "name": "stderr",
     "output_type": "stream",
     "text": [
      " 16%|█▌        | 8/50 [04:57<26:07, 37.32s/it]"
     ]
    },
    {
     "name": "stdout",
     "output_type": "stream",
     "text": [
      "Selected alpha : 100.0\n",
      "Ridge regression fitted!\n",
      "Weights saved!...\n",
      "Data extracted!...\n",
      "Data transformed!g data with AOP...\n",
      "Selected alpha : 31.622776601683793\n",
      "Ridge regression fitted!\n",
      "Weights saved!...\n",
      "Selected alpha : 31.622776601683793\n",
      "Ridge regression fitted!\n",
      "Weights saved!...\n",
      "Training anchor ($\\gamma$=5.0)...\r"
     ]
    },
    {
     "name": "stderr",
     "output_type": "stream",
     "text": [
      " 18%|█▊        | 9/50 [05:38<26:10, 38.30s/it]"
     ]
    },
    {
     "name": "stdout",
     "output_type": "stream",
     "text": [
      "Selected alpha : 31.622776601683793\n",
      "Ridge regression fitted!\n",
      "Weights saved!...\n",
      "Data extracted!...\n",
      "Data transformed!g data with AOP...\n",
      "Selected alpha : 10.0mma$=1.0)...\n",
      "Ridge regression fitted!\n",
      "Weights saved!...\n",
      "Selected alpha : 31.622776601683793\n",
      "Ridge regression fitted!\n",
      "Weights saved!...\n",
      "Training anchor ($\\gamma$=5.0)...\r"
     ]
    },
    {
     "name": "stderr",
     "output_type": "stream",
     "text": [
      " 20%|██        | 10/50 [06:11<24:34, 36.85s/it]"
     ]
    },
    {
     "name": "stdout",
     "output_type": "stream",
     "text": [
      "Selected alpha : 31.622776601683793\n",
      "Ridge regression fitted!\n",
      "Weights saved!...\n",
      "Data extracted!...\n",
      "Data transformed!g data with AOP...\n",
      "Selected alpha : 10.0mma$=1.0)...\n",
      "Ridge regression fitted!\n",
      "Weights saved!...\n",
      "Selected alpha : 10.0mma$=2.0)...\n",
      "Ridge regression fitted!\n",
      "Weights saved!...\n",
      "Training anchor ($\\gamma$=5.0)...\r"
     ]
    },
    {
     "name": "stderr",
     "output_type": "stream",
     "text": [
      " 22%|██▏       | 11/50 [06:51<24:26, 37.60s/it]"
     ]
    },
    {
     "name": "stdout",
     "output_type": "stream",
     "text": [
      "Selected alpha : 31.622776601683793\n",
      "Ridge regression fitted!\n",
      "Weights saved!...\n",
      "Data extracted!...\n",
      "Data transformed!g data with AOP...\n",
      "Selected alpha : 31.622776601683793\n",
      "Ridge regression fitted!\n",
      "Weights saved!...\n",
      "Selected alpha : 31.622776601683793\n",
      "Ridge regression fitted!\n",
      "Weights saved!...\n",
      "Training anchor ($\\gamma$=5.0)...\r"
     ]
    },
    {
     "name": "stderr",
     "output_type": "stream",
     "text": [
      " 24%|██▍       | 12/50 [07:26<23:21, 36.88s/it]"
     ]
    },
    {
     "name": "stdout",
     "output_type": "stream",
     "text": [
      "Selected alpha : 31.622776601683793\n",
      "Ridge regression fitted!\n",
      "Weights saved!...\n",
      "Data extracted!...\n",
      "Data transformed!g data with AOP...\n",
      "Selected alpha : 10.0mma$=1.0)...\n",
      "Ridge regression fitted!\n",
      "Weights saved!...\n",
      "Selected alpha : 31.622776601683793\n",
      "Ridge regression fitted!\n",
      "Weights saved!...\n",
      "Training anchor ($\\gamma$=5.0)...\r"
     ]
    },
    {
     "name": "stderr",
     "output_type": "stream",
     "text": [
      " 26%|██▌       | 13/50 [08:00<22:09, 35.92s/it]"
     ]
    },
    {
     "name": "stdout",
     "output_type": "stream",
     "text": [
      "Selected alpha : 31.622776601683793\n",
      "Ridge regression fitted!\n",
      "Weights saved!...\n",
      "Data extracted!...\n",
      "Data transformed!g data with AOP...\n",
      "Selected alpha : 31.622776601683793\n",
      "Ridge regression fitted!\n",
      "Weights saved!...\n",
      "Selected alpha : 100.0ma$=2.0)...\n",
      "Ridge regression fitted!\n",
      "Weights saved!...\n",
      "Training anchor ($\\gamma$=5.0)...\r"
     ]
    },
    {
     "name": "stderr",
     "output_type": "stream",
     "text": [
      " 28%|██▊       | 14/50 [08:36<21:35, 35.98s/it]"
     ]
    },
    {
     "name": "stdout",
     "output_type": "stream",
     "text": [
      "Selected alpha : 100.0\n",
      "Ridge regression fitted!\n",
      "Weights saved!...\n",
      "Data extracted!...\n",
      "Data transformed!g data with AOP...\n",
      "Selected alpha : 10.0mma$=1.0)...\n",
      "Ridge regression fitted!\n",
      "Weights saved!...\n",
      "Selected alpha : 10.0mma$=2.0)...\n",
      "Ridge regression fitted!\n",
      "Weights saved!...\n",
      "Training anchor ($\\gamma$=5.0)...\r"
     ]
    },
    {
     "name": "stderr",
     "output_type": "stream",
     "text": [
      " 30%|███       | 15/50 [09:10<20:43, 35.52s/it]"
     ]
    },
    {
     "name": "stdout",
     "output_type": "stream",
     "text": [
      "Selected alpha : 31.622776601683793\n",
      "Ridge regression fitted!\n",
      "Weights saved!...\n",
      "Data extracted!...\n",
      "Data transformed!g data with AOP...\n",
      "Selected alpha : 10.0mma$=1.0)...\n",
      "Ridge regression fitted!\n",
      "Weights saved!...\n",
      "Selected alpha : 31.622776601683793\n",
      "Ridge regression fitted!\n",
      "Weights saved!...\n",
      "Training anchor ($\\gamma$=5.0)...\r"
     ]
    },
    {
     "name": "stderr",
     "output_type": "stream",
     "text": [
      " 32%|███▏      | 16/50 [09:46<20:14, 35.72s/it]"
     ]
    },
    {
     "name": "stdout",
     "output_type": "stream",
     "text": [
      "Selected alpha : 31.622776601683793\n",
      "Ridge regression fitted!\n",
      "Weights saved!...\n",
      "Data extracted!...\n",
      "Data transformed!g data with AOP...\n",
      "Selected alpha : 10.0mma$=1.0)...\n",
      "Ridge regression fitted!\n",
      "Weights saved!...\n",
      "Selected alpha : 31.622776601683793\n",
      "Ridge regression fitted!\n",
      "Weights saved!...\n",
      "Training anchor ($\\gamma$=5.0)...\r"
     ]
    },
    {
     "name": "stderr",
     "output_type": "stream",
     "text": [
      " 34%|███▍      | 17/50 [10:22<19:37, 35.69s/it]"
     ]
    },
    {
     "name": "stdout",
     "output_type": "stream",
     "text": [
      "Selected alpha : 31.622776601683793\n",
      "Ridge regression fitted!\n",
      "Weights saved!...\n",
      "Data extracted!...\n",
      "Data transformed!g data with AOP...\n",
      "Selected alpha : 31.622776601683793\n",
      "Ridge regression fitted!\n",
      "Weights saved!...\n",
      "Selected alpha : 31.622776601683793\n",
      "Ridge regression fitted!\n",
      "Weights saved!...\n",
      "Training anchor ($\\gamma$=5.0)...\r"
     ]
    },
    {
     "name": "stderr",
     "output_type": "stream",
     "text": [
      " 36%|███▌      | 18/50 [10:56<18:42, 35.08s/it]"
     ]
    },
    {
     "name": "stdout",
     "output_type": "stream",
     "text": [
      "Selected alpha : 100.0\n",
      "Ridge regression fitted!\n",
      "Weights saved!...\n",
      "Data extracted!...\n",
      "Data transformed!g data with AOP...\n",
      "Selected alpha : 10.0mma$=1.0)...\n",
      "Ridge regression fitted!\n",
      "Weights saved!...\n",
      "Selected alpha : 10.0mma$=2.0)...\n",
      "Ridge regression fitted!\n",
      "Weights saved!...\n",
      "Training anchor ($\\gamma$=5.0)...\r"
     ]
    },
    {
     "name": "stderr",
     "output_type": "stream",
     "text": [
      " 38%|███▊      | 19/50 [11:29<17:49, 34.52s/it]"
     ]
    },
    {
     "name": "stdout",
     "output_type": "stream",
     "text": [
      "Selected alpha : 31.622776601683793\n",
      "Ridge regression fitted!\n",
      "Weights saved!...\n",
      "Data extracted!...\n",
      "Data transformed!g data with AOP...\n",
      "Selected alpha : 31.622776601683793\n",
      "Ridge regression fitted!\n",
      "Weights saved!...\n",
      "Selected alpha : 31.622776601683793\n",
      "Ridge regression fitted!\n",
      "Weights saved!...\n",
      "Training anchor ($\\gamma$=5.0)...\r"
     ]
    },
    {
     "name": "stderr",
     "output_type": "stream",
     "text": [
      " 40%|████      | 20/50 [12:04<17:19, 34.66s/it]"
     ]
    },
    {
     "name": "stdout",
     "output_type": "stream",
     "text": [
      "Selected alpha : 31.622776601683793\n",
      "Ridge regression fitted!\n",
      "Weights saved!...\n",
      "Data extracted!...\n",
      "Data transformed!g data with AOP...\n",
      "Selected alpha : 10.0mma$=1.0)...\n",
      "Ridge regression fitted!\n",
      "Weights saved!...\n",
      "Selected alpha : 10.0mma$=2.0)...\n",
      "Ridge regression fitted!\n",
      "Weights saved!...\n",
      "Training anchor ($\\gamma$=5.0)...\r"
     ]
    },
    {
     "name": "stderr",
     "output_type": "stream",
     "text": [
      " 42%|████▏     | 21/50 [12:37<16:33, 34.27s/it]"
     ]
    },
    {
     "name": "stdout",
     "output_type": "stream",
     "text": [
      "Selected alpha : 31.622776601683793\n",
      "Ridge regression fitted!\n",
      "Weights saved!...\n",
      "Data extracted!...\n",
      "Data transformed!g data with AOP...\n",
      "Selected alpha : 10.0mma$=1.0)...\n",
      "Ridge regression fitted!\n",
      "Weights saved!...\n",
      "Selected alpha : 10.0mma$=2.0)...\n",
      "Ridge regression fitted!\n",
      "Weights saved!...\n",
      "Training anchor ($\\gamma$=5.0)...\r"
     ]
    },
    {
     "name": "stderr",
     "output_type": "stream",
     "text": [
      " 44%|████▍     | 22/50 [13:15<16:27, 35.28s/it]"
     ]
    },
    {
     "name": "stdout",
     "output_type": "stream",
     "text": [
      "Selected alpha : 31.622776601683793\n",
      "Ridge regression fitted!\n",
      "Weights saved!...\n",
      "Data extracted!...\n",
      "Data transformed!g data with AOP...\n",
      "Selected alpha : 31.622776601683793\n",
      "Ridge regression fitted!\n",
      "Weights saved!...\n",
      "Selected alpha : 31.622776601683793\n",
      "Ridge regression fitted!\n",
      "Weights saved!...\n",
      "Training anchor ($\\gamma$=5.0)...\r"
     ]
    },
    {
     "name": "stderr",
     "output_type": "stream",
     "text": [
      " 46%|████▌     | 23/50 [13:50<15:52, 35.27s/it]"
     ]
    },
    {
     "name": "stdout",
     "output_type": "stream",
     "text": [
      "Selected alpha : 100.0\n",
      "Ridge regression fitted!\n",
      "Weights saved!...\n",
      "Data extracted!...\n",
      "Data transformed!g data with AOP...\n",
      "Selected alpha : 10.0mma$=1.0)...\n",
      "Ridge regression fitted!\n",
      "Weights saved!...\n",
      "Selected alpha : 31.622776601683793\n",
      "Ridge regression fitted!\n",
      "Weights saved!...\n",
      "Training anchor ($\\gamma$=5.0)...\r"
     ]
    },
    {
     "name": "stderr",
     "output_type": "stream",
     "text": [
      " 48%|████▊     | 24/50 [14:23<15:01, 34.69s/it]"
     ]
    },
    {
     "name": "stdout",
     "output_type": "stream",
     "text": [
      "Selected alpha : 100.0\n",
      "Ridge regression fitted!\n",
      "Weights saved!...\n",
      "Data extracted!...\n",
      "Data transformed!g data with AOP...\n",
      "Selected alpha : 10.0mma$=1.0)...\n",
      "Ridge regression fitted!\n",
      "Weights saved!...\n",
      "Selected alpha : 31.622776601683793\n",
      "Ridge regression fitted!\n",
      "Weights saved!...\n",
      "Training anchor ($\\gamma$=5.0)...\r"
     ]
    },
    {
     "name": "stderr",
     "output_type": "stream",
     "text": [
      " 50%|█████     | 25/50 [14:57<14:17, 34.29s/it]"
     ]
    },
    {
     "name": "stdout",
     "output_type": "stream",
     "text": [
      "Selected alpha : 100.0\n",
      "Ridge regression fitted!\n",
      "Weights saved!...\n",
      "Data extracted!...\n",
      "Data transformed!g data with AOP...\n",
      "Selected alpha : 10.0mma$=1.0)...\n",
      "Ridge regression fitted!\n",
      "Weights saved!...\n",
      "Selected alpha : 31.622776601683793\n",
      "Ridge regression fitted!\n",
      "Weights saved!...\n",
      "Training anchor ($\\gamma$=5.0)...\r"
     ]
    },
    {
     "name": "stderr",
     "output_type": "stream",
     "text": [
      " 52%|█████▏    | 26/50 [15:34<14:00, 35.04s/it]"
     ]
    },
    {
     "name": "stdout",
     "output_type": "stream",
     "text": [
      "Selected alpha : 31.622776601683793\n",
      "Ridge regression fitted!\n",
      "Weights saved!...\n",
      "Data extracted!...\n",
      "Data transformed!g data with AOP...\n",
      "Selected alpha : 10.0mma$=1.0)...\n",
      "Ridge regression fitted!\n",
      "Weights saved!...\n",
      "Selected alpha : 10.0mma$=2.0)...\n",
      "Ridge regression fitted!\n",
      "Weights saved!...\n",
      "Training anchor ($\\gamma$=5.0)...\r"
     ]
    },
    {
     "name": "stderr",
     "output_type": "stream",
     "text": [
      " 54%|█████▍    | 27/50 [16:10<13:33, 35.35s/it]"
     ]
    },
    {
     "name": "stdout",
     "output_type": "stream",
     "text": [
      "Selected alpha : 31.622776601683793\n",
      "Ridge regression fitted!\n",
      "Weights saved!...\n",
      "Data extracted!...\n",
      "Data transformed!g data with AOP...\n",
      "Selected alpha : 31.622776601683793\n",
      "Ridge regression fitted!\n",
      "Weights saved!...\n",
      "Selected alpha : 31.622776601683793\n",
      "Ridge regression fitted!\n",
      "Weights saved!...\n",
      "Training anchor ($\\gamma$=5.0)...\r"
     ]
    },
    {
     "name": "stderr",
     "output_type": "stream",
     "text": [
      " 56%|█████▌    | 28/50 [16:44<12:53, 35.15s/it]"
     ]
    },
    {
     "name": "stdout",
     "output_type": "stream",
     "text": [
      "Selected alpha : 100.0\n",
      "Ridge regression fitted!\n",
      "Weights saved!...\n",
      "Data extracted!...\n",
      "Data transformed!g data with AOP...\n",
      "Selected alpha : 10.0mma$=1.0)...\n",
      "Ridge regression fitted!\n",
      "Weights saved!...\n",
      "Selected alpha : 31.622776601683793\n",
      "Ridge regression fitted!\n",
      "Weights saved!...\n",
      "Training anchor ($\\gamma$=5.0)...\r"
     ]
    },
    {
     "name": "stderr",
     "output_type": "stream",
     "text": [
      " 58%|█████▊    | 29/50 [17:15<11:49, 33.80s/it]"
     ]
    },
    {
     "name": "stdout",
     "output_type": "stream",
     "text": [
      "Selected alpha : 100.0\n",
      "Ridge regression fitted!\n",
      "Weights saved!...\n",
      "Data extracted!...\n",
      "Data transformed!g data with AOP...\n",
      "Selected alpha : 31.622776601683793\n",
      "Ridge regression fitted!\n",
      "Weights saved!...\n",
      "Selected alpha : 31.622776601683793\n",
      "Ridge regression fitted!\n",
      "Weights saved!...\n",
      "Training anchor ($\\gamma$=5.0)...\r"
     ]
    },
    {
     "name": "stderr",
     "output_type": "stream",
     "text": [
      " 60%|██████    | 30/50 [17:50<11:24, 34.21s/it]"
     ]
    },
    {
     "name": "stdout",
     "output_type": "stream",
     "text": [
      "Selected alpha : 100.0\n",
      "Ridge regression fitted!\n",
      "Weights saved!...\n",
      "Data extracted!...\n",
      "Data transformed!g data with AOP...\n",
      "Selected alpha : 10.0mma$=1.0)...\n",
      "Ridge regression fitted!\n",
      "Weights saved!...\n",
      "Selected alpha : 10.0mma$=2.0)...\n",
      "Ridge regression fitted!\n",
      "Weights saved!...\n",
      "Training anchor ($\\gamma$=5.0)...\r"
     ]
    },
    {
     "name": "stderr",
     "output_type": "stream",
     "text": [
      " 62%|██████▏   | 31/50 [18:22<10:37, 33.56s/it]"
     ]
    },
    {
     "name": "stdout",
     "output_type": "stream",
     "text": [
      "Selected alpha : 10.0\n",
      "Ridge regression fitted!\n",
      "Weights saved!...\n",
      "Data extracted!...\n",
      "Data transformed!g data with AOP...\n",
      "Selected alpha : 31.622776601683793\n",
      "Ridge regression fitted!\n",
      "Weights saved!...\n",
      "Selected alpha : 31.622776601683793\n",
      "Ridge regression fitted!\n",
      "Weights saved!...\n",
      "Training anchor ($\\gamma$=5.0)...\r"
     ]
    },
    {
     "name": "stderr",
     "output_type": "stream",
     "text": [
      " 64%|██████▍   | 32/50 [18:56<10:07, 33.74s/it]"
     ]
    },
    {
     "name": "stdout",
     "output_type": "stream",
     "text": [
      "Selected alpha : 31.622776601683793\n",
      "Ridge regression fitted!\n",
      "Weights saved!...\n",
      "Data extracted!...\n",
      "Data transformed!g data with AOP...\n",
      "Selected alpha : 31.622776601683793\n",
      "Ridge regression fitted!\n",
      "Weights saved!...\n",
      "Selected alpha : 31.622776601683793\n",
      "Ridge regression fitted!\n",
      "Weights saved!...\n",
      "Training anchor ($\\gamma$=5.0)...\r"
     ]
    },
    {
     "name": "stderr",
     "output_type": "stream",
     "text": [
      " 66%|██████▌   | 33/50 [19:31<09:39, 34.11s/it]"
     ]
    },
    {
     "name": "stdout",
     "output_type": "stream",
     "text": [
      "Selected alpha : 100.0\n",
      "Ridge regression fitted!\n",
      "Weights saved!...\n",
      "Data extracted!...\n",
      "Data transformed!g data with AOP...\n",
      "Selected alpha : 31.622776601683793\n",
      "Ridge regression fitted!\n",
      "Weights saved!...\n",
      "Selected alpha : 31.622776601683793\n",
      "Ridge regression fitted!\n",
      "Weights saved!...\n",
      "Training anchor ($\\gamma$=5.0)...\r"
     ]
    },
    {
     "name": "stderr",
     "output_type": "stream",
     "text": [
      " 68%|██████▊   | 34/50 [20:03<08:53, 33.33s/it]"
     ]
    },
    {
     "name": "stdout",
     "output_type": "stream",
     "text": [
      "Selected alpha : 31.622776601683793\n",
      "Ridge regression fitted!\n",
      "Weights saved!...\n",
      "Data extracted!...\n",
      "Data transformed!g data with AOP...\n",
      "Selected alpha : 31.622776601683793\n",
      "Ridge regression fitted!\n",
      "Weights saved!...\n",
      "Selected alpha : 31.622776601683793\n",
      "Ridge regression fitted!\n",
      "Weights saved!...\n",
      "Training anchor ($\\gamma$=5.0)...\r"
     ]
    },
    {
     "name": "stderr",
     "output_type": "stream",
     "text": [
      " 70%|███████   | 35/50 [20:35<08:13, 32.88s/it]"
     ]
    },
    {
     "name": "stdout",
     "output_type": "stream",
     "text": [
      "Selected alpha : 100.0\n",
      "Ridge regression fitted!\n",
      "Weights saved!...\n",
      "Data extracted!...\n",
      "Data transformed!g data with AOP...\n",
      "Selected alpha : 31.622776601683793\n",
      "Ridge regression fitted!\n",
      "Weights saved!...\n",
      "Selected alpha : 31.622776601683793\n",
      "Ridge regression fitted!\n",
      "Weights saved!...\n",
      "Training anchor ($\\gamma$=5.0)...\r"
     ]
    },
    {
     "name": "stderr",
     "output_type": "stream",
     "text": [
      " 72%|███████▏  | 36/50 [21:11<07:53, 33.80s/it]"
     ]
    },
    {
     "name": "stdout",
     "output_type": "stream",
     "text": [
      "Selected alpha : 100.0\n",
      "Ridge regression fitted!\n",
      "Weights saved!...\n",
      "Data extracted!...\n",
      "Data transformed!g data with AOP...\n",
      "Selected alpha : 31.622776601683793\n",
      "Ridge regression fitted!\n",
      "Weights saved!...\n",
      "Selected alpha : 31.622776601683793\n",
      "Ridge regression fitted!\n",
      "Weights saved!...\n",
      "Training anchor ($\\gamma$=5.0)...\r"
     ]
    },
    {
     "name": "stderr",
     "output_type": "stream",
     "text": [
      " 74%|███████▍  | 37/50 [21:47<07:28, 34.51s/it]"
     ]
    },
    {
     "name": "stdout",
     "output_type": "stream",
     "text": [
      "Selected alpha : 31.622776601683793\n",
      "Ridge regression fitted!\n",
      "Weights saved!...\n",
      "Data extracted!...\n",
      "Data transformed!g data with AOP...\n",
      "Selected alpha : 31.622776601683793\n",
      "Ridge regression fitted!\n",
      "Weights saved!...\n",
      "Selected alpha : 31.622776601683793\n",
      "Ridge regression fitted!\n",
      "Weights saved!...\n",
      "Training anchor ($\\gamma$=5.0)...\r"
     ]
    },
    {
     "name": "stderr",
     "output_type": "stream",
     "text": [
      " 76%|███████▌  | 38/50 [22:22<06:55, 34.62s/it]"
     ]
    },
    {
     "name": "stdout",
     "output_type": "stream",
     "text": [
      "Selected alpha : 100.0\n",
      "Ridge regression fitted!\n",
      "Weights saved!...\n",
      "Data extracted!...\n",
      "Data transformed!g data with AOP...\n",
      "Selected alpha : 10.0mma$=1.0)...\n",
      "Ridge regression fitted!\n",
      "Weights saved!...\n",
      "Selected alpha : 31.622776601683793\n",
      "Ridge regression fitted!\n",
      "Weights saved!...\n",
      "Training anchor ($\\gamma$=5.0)...\r"
     ]
    },
    {
     "name": "stderr",
     "output_type": "stream",
     "text": [
      " 78%|███████▊  | 39/50 [22:55<06:18, 34.37s/it]"
     ]
    },
    {
     "name": "stdout",
     "output_type": "stream",
     "text": [
      "Selected alpha : 31.622776601683793\n",
      "Ridge regression fitted!\n",
      "Weights saved!...\n",
      "Data extracted!...\n",
      "Data transformed!g data with AOP...\n",
      "Selected alpha : 10.0mma$=1.0)...\n",
      "Ridge regression fitted!\n",
      "Weights saved!...\n",
      "Selected alpha : 31.622776601683793\n",
      "Ridge regression fitted!\n",
      "Weights saved!...\n",
      "Training anchor ($\\gamma$=5.0)...\r"
     ]
    },
    {
     "name": "stderr",
     "output_type": "stream",
     "text": [
      " 80%|████████  | 40/50 [23:32<05:49, 34.93s/it]"
     ]
    },
    {
     "name": "stdout",
     "output_type": "stream",
     "text": [
      "Selected alpha : 31.622776601683793\n",
      "Ridge regression fitted!\n",
      "Weights saved!...\n",
      "Data extracted!...\n",
      "Data transformed!g data with AOP...\n",
      "Selected alpha : 31.622776601683793\n",
      "Ridge regression fitted!\n",
      "Weights saved!...\n",
      "Selected alpha : 31.622776601683793\n",
      "Ridge regression fitted!\n",
      "Weights saved!...\n",
      "Training anchor ($\\gamma$=5.0)...\r"
     ]
    },
    {
     "name": "stderr",
     "output_type": "stream",
     "text": [
      " 82%|████████▏ | 41/50 [24:08<05:17, 35.31s/it]"
     ]
    },
    {
     "name": "stdout",
     "output_type": "stream",
     "text": [
      "Selected alpha : 31.622776601683793\n",
      "Ridge regression fitted!\n",
      "Weights saved!...\n",
      "Data extracted!...\n",
      "Data transformed!g data with AOP...\n",
      "Selected alpha : 10.0mma$=1.0)...\n",
      "Ridge regression fitted!\n",
      "Weights saved!...\n",
      "Selected alpha : 10.0mma$=2.0)...\n",
      "Ridge regression fitted!\n",
      "Weights saved!...\n",
      "Training anchor ($\\gamma$=5.0)...\r"
     ]
    },
    {
     "name": "stderr",
     "output_type": "stream",
     "text": [
      " 84%|████████▍ | 42/50 [24:45<04:46, 35.81s/it]"
     ]
    },
    {
     "name": "stdout",
     "output_type": "stream",
     "text": [
      "Selected alpha : 31.622776601683793\n",
      "Ridge regression fitted!\n",
      "Weights saved!...\n",
      "Data extracted!...\n",
      "Data transformed!g data with AOP...\n",
      "Selected alpha : 31.622776601683793\n",
      "Ridge regression fitted!\n",
      "Weights saved!...\n",
      "Selected alpha : 31.622776601683793\n",
      "Ridge regression fitted!\n",
      "Weights saved!...\n",
      "Training anchor ($\\gamma$=5.0)...\r"
     ]
    },
    {
     "name": "stderr",
     "output_type": "stream",
     "text": [
      " 86%|████████▌ | 43/50 [25:24<04:17, 36.74s/it]"
     ]
    },
    {
     "name": "stdout",
     "output_type": "stream",
     "text": [
      "Selected alpha : 31.622776601683793\n",
      "Ridge regression fitted!\n",
      "Weights saved!...\n",
      "Data extracted!...\n",
      "Data transformed!g data with AOP...\n",
      "Selected alpha : 10.0mma$=1.0)...\n",
      "Ridge regression fitted!\n",
      "Weights saved!...\n",
      "Selected alpha : 10.0mma$=2.0)...\n",
      "Ridge regression fitted!\n",
      "Weights saved!...\n",
      "Training anchor ($\\gamma$=5.0)...\r"
     ]
    },
    {
     "name": "stderr",
     "output_type": "stream",
     "text": [
      " 88%|████████▊ | 44/50 [26:03<03:45, 37.61s/it]"
     ]
    },
    {
     "name": "stdout",
     "output_type": "stream",
     "text": [
      "Selected alpha : 31.622776601683793\n",
      "Ridge regression fitted!\n",
      "Weights saved!...\n",
      "Data extracted!...\n",
      "Data transformed!g data with AOP...\n",
      "Selected alpha : 10.0mma$=1.0)...\n",
      "Ridge regression fitted!\n",
      "Weights saved!...\n",
      "Selected alpha : 31.622776601683793\n",
      "Ridge regression fitted!\n",
      "Weights saved!...\n",
      "Training anchor ($\\gamma$=5.0)...\r"
     ]
    },
    {
     "name": "stderr",
     "output_type": "stream",
     "text": [
      " 90%|█████████ | 45/50 [26:43<03:10, 38.16s/it]"
     ]
    },
    {
     "name": "stdout",
     "output_type": "stream",
     "text": [
      "Selected alpha : 31.622776601683793\n",
      "Ridge regression fitted!\n",
      "Weights saved!...\n",
      "Data extracted!...\n",
      "Data transformed!g data with AOP...\n",
      "Selected alpha : 10.0mma$=1.0)...\n",
      "Ridge regression fitted!\n",
      "Weights saved!...\n",
      "Selected alpha : 10.0mma$=2.0)...\n",
      "Ridge regression fitted!\n",
      "Weights saved!...\n",
      "Training anchor ($\\gamma$=5.0)...\r"
     ]
    },
    {
     "name": "stderr",
     "output_type": "stream",
     "text": [
      " 92%|█████████▏| 46/50 [27:22<02:33, 38.32s/it]"
     ]
    },
    {
     "name": "stdout",
     "output_type": "stream",
     "text": [
      "Selected alpha : 31.622776601683793\n",
      "Ridge regression fitted!\n",
      "Weights saved!...\n",
      "Data extracted!...\n",
      "Data transformed!g data with AOP...\n",
      "Selected alpha : 31.622776601683793\n",
      "Ridge regression fitted!\n",
      "Weights saved!...\n",
      "Selected alpha : 31.622776601683793\n",
      "Ridge regression fitted!\n",
      "Weights saved!...\n",
      "Training anchor ($\\gamma$=5.0)...\r"
     ]
    },
    {
     "name": "stderr",
     "output_type": "stream",
     "text": [
      " 94%|█████████▍| 47/50 [28:03<01:57, 39.29s/it]"
     ]
    },
    {
     "name": "stdout",
     "output_type": "stream",
     "text": [
      "Selected alpha : 31.622776601683793\n",
      "Ridge regression fitted!\n",
      "Weights saved!...\n",
      "Data extracted!...\n",
      "Data transformed!g data with AOP...\n",
      "Selected alpha : 10.0mma$=1.0)...\n",
      "Ridge regression fitted!\n",
      "Weights saved!...\n",
      "Selected alpha : 31.622776601683793\n",
      "Ridge regression fitted!\n",
      "Weights saved!...\n",
      "Training anchor ($\\gamma$=5.0)...\r"
     ]
    },
    {
     "name": "stderr",
     "output_type": "stream",
     "text": [
      " 96%|█████████▌| 48/50 [28:41<01:17, 38.99s/it]"
     ]
    },
    {
     "name": "stdout",
     "output_type": "stream",
     "text": [
      "Selected alpha : 31.622776601683793\n",
      "Ridge regression fitted!\n",
      "Weights saved!...\n",
      "Data extracted!...\n",
      "Data transformed!g data with AOP...\n",
      "Selected alpha : 10.0mma$=1.0)...\n",
      "Ridge regression fitted!\n",
      "Weights saved!...\n",
      "Selected alpha : 10.0mma$=2.0)...\n",
      "Ridge regression fitted!\n",
      "Weights saved!...\n",
      "Training anchor ($\\gamma$=5.0)...\r"
     ]
    },
    {
     "name": "stderr",
     "output_type": "stream",
     "text": [
      " 98%|█████████▊| 49/50 [29:19<00:38, 38.69s/it]"
     ]
    },
    {
     "name": "stdout",
     "output_type": "stream",
     "text": [
      "Selected alpha : 31.622776601683793\n",
      "Ridge regression fitted!\n",
      "Weights saved!...\n",
      "Data extracted!...\n",
      "Data transformed!g data with AOP...\n",
      "Selected alpha : 31.622776601683793\n",
      "Ridge regression fitted!\n",
      "Weights saved!...\n",
      "Selected alpha : 31.622776601683793\n",
      "Ridge regression fitted!\n",
      "Weights saved!...\n",
      "Training anchor ($\\gamma$=5.0)...\r"
     ]
    },
    {
     "name": "stderr",
     "output_type": "stream",
     "text": [
      "100%|██████████| 50/50 [29:59<00:00, 35.99s/it]"
     ]
    },
    {
     "name": "stdout",
     "output_type": "stream",
     "text": [
      "Selected alpha : 31.622776601683793\n",
      "Ridge regression fitted!\n",
      "Weights saved!...\n"
     ]
    },
    {
     "name": "stderr",
     "output_type": "stream",
     "text": [
      "\n"
     ]
    }
   ],
   "source": [
    "\n",
    "for i in tqdm(range(len(models_test))):\n",
    "    m_train, m_test = models_train[i], models_test[i]\n",
    "    #print('Fitting optimal ridge {}/{}'.format(i, B))\n",
    "    print(\"Extracting data...\", end='\\r')\n",
    "    A_train, X_train, Y_train = load_data_models(m_train, n_sample=N, coarse=coarse)\n",
    "    A_test, X_test, Y_test = load_data_models([m_test], n_sample=N, coarse=coarse)\n",
    "    print(\"Data extracted!\")\n",
    "    \n",
    "    print('Transform training data with AOP...', end='\\r')\n",
    "    AOP = AnchorOptimalProjection(gamma=gammas)\n",
    "    X_trains, Y_trains = AOP.fit_transform(A_train, X_train, Y_train)\n",
    "    print('Data transformed!')\n",
    "    \n",
    "    for gamma in gammas:\n",
    "        print(r\"Training anchor ($\\gamma$={:.1f})...\".format(gamma), end='\\r')\n",
    "        ridge = RidgeCV(alphas=alphas, cv=n_cv) #cv=zip(idx_val, idx_val))\n",
    "        ridge.fit(X_trains[gamma], Y_trains[gamma])\n",
    "        print('Selected alpha : {}'.format(ridge.alpha_))\n",
    "        print(\"Ridge regression fitted!\")\n",
    "        print('Saving weights...', end='\\r')\n",
    "        if weights[m_test][gamma]['weights'] is None:\n",
    "            weights[m_test][gamma]['weights'] = np.hstack((ridge.coef_, ridge.intercept_[:,None]))\n",
    "        else:\n",
    "            weights[m_test][gamma]['weights'] = (weights[m_test][gamma]['n_samples']*weights[m_test][gamma]['weights'] + N*occurence_models_test[m_test]*np.hstack((ridge.coef_, ridge.intercept_[:,None])))/(N*occurence_models_test[m_test] + weights[m_test][gamma]['n_samples'])\n",
    "            weights[m_test][gamma]['n_samples'] += N*occurence_models_test[m_test]\n",
    "        print(\"Weights saved!\")\n",
    "# Save the weights for this alpha to a file\n",
    "file_path = f'../weights/Anchor_weights_stability_n{N}_coarse{coarse}.pkl'\n",
    "with open(file_path, 'wb') as f:\n",
    "    pickle.dump(weights, f)"
   ]
  },
  {
   "cell_type": "code",
   "execution_count": 12,
   "id": "25accc0c",
   "metadata": {},
   "outputs": [],
   "source": [
    "directory = '../weights/'\n",
    "file = 'Anchor_weights_stability_n{}_coarse{}.pkl'.format(N, coarse)\n",
    "with open(directory + file, 'rb') as f:\n",
    "    weights = pickle.load(f)"
   ]
  },
  {
   "cell_type": "code",
   "execution_count": 13,
   "id": "e6876590",
   "metadata": {},
   "outputs": [
    {
     "name": "stderr",
     "output_type": "stream",
     "text": [
      "  0%|          | 0/10 [00:00<?, ?it/s]"
     ]
    },
    {
     "name": "stdout",
     "output_type": "stream",
     "text": [
      "Data extracted!...\n",
      "Data predicteda ...\n",
      "Score computed!s for (CanESM5 - 1)\n",
      "Data extracted!...\n",
      "Data predicteda ...\n",
      "Score computed!s for (CanESM5 - 2)\n",
      "Data extracted!...\n",
      "Data predicteda ...\n",
      "Score computed!s for (CanESM5 - 5)\n",
      "Data extracted!...\n",
      "Data predicteda ...\n",
      "Score computed!s for (MIROC-ES2L - 1)\n",
      "Data extracted!...\n",
      "Data predicteda ...\n",
      "Score computed!s for (MIROC-ES2L - 2)\n",
      "Data extracted!...\n",
      "Data predicteda ...\n",
      "Score computed!s for (MIROC-ES2L - 5)\n",
      "Data extracted!...\n",
      "Data predicteda ...\n",
      "Score computed!s for (MPI-ESM1-2-LR - 1)\n",
      "Data extracted!...\n",
      "Data predicteda ...\n",
      "Score computed!s for (MPI-ESM1-2-LR - 2)\n",
      "Data extracted!...\n",
      "Data predicteda ...\n",
      "Score computed!s for (MPI-ESM1-2-LR - 5)\n",
      "Data extracted!...\n",
      "Data predicteda ...\n",
      "Score computed!s for (MIROC6 - 1)\n",
      "Data extracted!...\n",
      "Data predicteda ...\n",
      "Score computed!s for (MIROC6 - 2)\n",
      "Data extracted!...\n",
      "Data predicteda ...\n",
      "Score computed!s for (MIROC6 - 5)\n",
      "Data extracted!...\n",
      "Data predicteda ...\n",
      "Score computed!s for (CESM2 - 1)\n",
      "Data extracted!...\n",
      "Data predicteda ...\n",
      "Score computed!s for (CESM2 - 2)\n",
      "Extracting data...\r"
     ]
    },
    {
     "name": "stderr",
     "output_type": "stream",
     "text": [
      " 10%|█         | 1/10 [01:21<12:12, 81.36s/it]"
     ]
    },
    {
     "name": "stdout",
     "output_type": "stream",
     "text": [
      "Data extracted!\n",
      "Data predicteda ...\n",
      "Score computed!s for (CESM2 - 5)\n",
      "Data extracted!...\n",
      "Data predicteda ...\n",
      "Score computed!s for (CanESM5 - 1)\n",
      "Data extracted!...\n",
      "Data predicteda ...\n",
      "Score computed!s for (CanESM5 - 2)\n",
      "Data extracted!...\n",
      "Data predicteda ...\n",
      "Score computed!s for (CanESM5 - 5)\n",
      "Data extracted!...\n",
      "Data predicteda ...\n",
      "Score computed!s for (MIROC-ES2L - 1)\n",
      "Data extracted!...\n",
      "Data predicteda ...\n",
      "Score computed!s for (MIROC-ES2L - 2)\n",
      "Data extracted!...\n",
      "Data predicteda ...\n",
      "Score computed!s for (MIROC-ES2L - 5)\n",
      "Data extracted!...\n",
      "Data predicteda ...\n",
      "Score computed!s for (MPI-ESM1-2-LR - 1)\n",
      "Data extracted!...\n",
      "Data predicteda ...\n",
      "Score computed!s for (MPI-ESM1-2-LR - 2)\n",
      "Data extracted!...\n",
      "Data predicteda ...\n",
      "Score computed!s for (MPI-ESM1-2-LR - 5)\n",
      "Data extracted!...\n",
      "Data predicteda ...\n",
      "Score computed!s for (MIROC6 - 1)\n",
      "Data extracted!...\n",
      "Data predicteda ...\n",
      "Score computed!s for (MIROC6 - 2)\n",
      "Data extracted!...\n",
      "Data predicteda ...\n",
      "Score computed!s for (MIROC6 - 5)\n",
      "Data extracted!...\n",
      "Data predicteda ...\n",
      "Score computed!s for (CESM2 - 1)\n",
      "Data extracted!...\n",
      "Data predicteda ...\n",
      "Score computed!s for (CESM2 - 2)\n",
      "Extracting data...\r"
     ]
    },
    {
     "name": "stderr",
     "output_type": "stream",
     "text": [
      " 20%|██        | 2/10 [02:36<10:20, 77.59s/it]"
     ]
    },
    {
     "name": "stdout",
     "output_type": "stream",
     "text": [
      "Data extracted!\n",
      "Data predicteda ...\n",
      "Score computed!s for (CESM2 - 5)\n",
      "Data extracted!...\n",
      "Data predicteda ...\n",
      "Score computed!s for (CanESM5 - 1)\n",
      "Data extracted!...\n",
      "Data predicteda ...\n",
      "Score computed!s for (CanESM5 - 2)\n",
      "Data extracted!...\n",
      "Data predicteda ...\n",
      "Score computed!s for (CanESM5 - 5)\n",
      "Data extracted!...\n",
      "Data predicteda ...\n",
      "Score computed!s for (MIROC-ES2L - 1)\n",
      "Data extracted!...\n",
      "Data predicteda ...\n",
      "Score computed!s for (MIROC-ES2L - 2)\n",
      "Data extracted!...\n",
      "Data predicteda ...\n",
      "Score computed!s for (MIROC-ES2L - 5)\n",
      "Data extracted!...\n",
      "Data predicteda ...\n",
      "Score computed!s for (MPI-ESM1-2-LR - 1)\n",
      "Data extracted!...\n",
      "Data predicteda ...\n",
      "Score computed!s for (MPI-ESM1-2-LR - 2)\n",
      "Data extracted!...\n",
      "Data predicteda ...\n",
      "Score computed!s for (MPI-ESM1-2-LR - 5)\n",
      "Data extracted!...\n",
      "Data predicteda ...\n",
      "Score computed!s for (MIROC6 - 1)\n",
      "Data extracted!...\n",
      "Data predicteda ...\n",
      "Score computed!s for (MIROC6 - 2)\n",
      "Data extracted!...\n",
      "Data predicteda ...\n",
      "Score computed!s for (MIROC6 - 5)\n",
      "Data extracted!...\n",
      "Data predicteda ...\n",
      "Score computed!s for (CESM2 - 1)\n",
      "Data extracted!...\n",
      "Data predicteda ...\n",
      "Score computed!s for (CESM2 - 2)\n",
      "Extracting data...\r"
     ]
    },
    {
     "name": "stderr",
     "output_type": "stream",
     "text": [
      " 30%|███       | 3/10 [03:51<08:54, 76.32s/it]"
     ]
    },
    {
     "name": "stdout",
     "output_type": "stream",
     "text": [
      "Data extracted!\n",
      "Data predicteda ...\n",
      "Score computed!s for (CESM2 - 5)\n",
      "Data extracted!...\n",
      "Data predicteda ...\n",
      "Score computed!s for (CanESM5 - 1)\n",
      "Data extracted!...\n",
      "Data predicteda ...\n",
      "Score computed!s for (CanESM5 - 2)\n",
      "Data extracted!...\n",
      "Data predicteda ...\n",
      "Score computed!s for (CanESM5 - 5)\n",
      "Data extracted!...\n",
      "Data predicteda ...\n",
      "Score computed!s for (MIROC-ES2L - 1)\n",
      "Data extracted!...\n",
      "Data predicteda ...\n",
      "Score computed!s for (MIROC-ES2L - 2)\n",
      "Data extracted!...\n",
      "Data predicteda ...\n",
      "Score computed!s for (MIROC-ES2L - 5)\n",
      "Data extracted!...\n",
      "Data predicteda ...\n",
      "Score computed!s for (MPI-ESM1-2-LR - 1)\n",
      "Data extracted!...\n",
      "Data predicteda ...\n",
      "Score computed!s for (MPI-ESM1-2-LR - 2)\n",
      "Data extracted!...\n",
      "Data predicteda ...\n",
      "Score computed!s for (MPI-ESM1-2-LR - 5)\n",
      "Data extracted!...\n",
      "Data predicteda ...\n",
      "Score computed!s for (MIROC6 - 1)\n",
      "Data extracted!...\n",
      "Data predicteda ...\n",
      "Score computed!s for (MIROC6 - 2)\n",
      "Data extracted!...\n",
      "Data predicteda ...\n",
      "Score computed!s for (MIROC6 - 5)\n",
      "Data extracted!...\n",
      "Data predicteda ...\n",
      "Score computed!s for (CESM2 - 1)\n",
      "Data extracted!...\n",
      "Data predicteda ...\n",
      "Score computed!s for (CESM2 - 2)\n",
      "Extracting data...\r"
     ]
    },
    {
     "name": "stderr",
     "output_type": "stream",
     "text": [
      " 40%|████      | 4/10 [05:05<07:33, 75.57s/it]"
     ]
    },
    {
     "name": "stdout",
     "output_type": "stream",
     "text": [
      "Data extracted!\n",
      "Data predicteda ...\n",
      "Score computed!s for (CESM2 - 5)\n",
      "Data extracted!...\n",
      "Data predicteda ...\n",
      "Score computed!s for (CanESM5 - 1)\n",
      "Data extracted!...\n",
      "Data predicteda ...\n",
      "Score computed!s for (CanESM5 - 2)\n",
      "Data extracted!...\n",
      "Data predicteda ...\n",
      "Score computed!s for (CanESM5 - 5)\n",
      "Data extracted!...\n",
      "Data predicteda ...\n",
      "Score computed!s for (MIROC-ES2L - 1)\n",
      "Data extracted!...\n",
      "Data predicteda ...\n",
      "Score computed!s for (MIROC-ES2L - 2)\n",
      "Data extracted!...\n",
      "Data predicteda ...\n",
      "Score computed!s for (MIROC-ES2L - 5)\n",
      "Data extracted!...\n",
      "Data predicteda ...\n",
      "Score computed!s for (MPI-ESM1-2-LR - 1)\n",
      "Data extracted!...\n",
      "Data predicteda ...\n",
      "Score computed!s for (MPI-ESM1-2-LR - 2)\n",
      "Data extracted!...\n",
      "Data predicteda ...\n",
      "Score computed!s for (MPI-ESM1-2-LR - 5)\n",
      "Data extracted!...\n",
      "Data predicteda ...\n",
      "Score computed!s for (MIROC6 - 1)\n",
      "Data extracted!...\n",
      "Data predicteda ...\n",
      "Score computed!s for (MIROC6 - 2)\n",
      "Data extracted!...\n",
      "Data predicteda ...\n",
      "Score computed!s for (MIROC6 - 5)\n",
      "Data extracted!...\n",
      "Data predicteda ...\n",
      "Score computed!s for (CESM2 - 1)\n",
      "Data extracted!...\n",
      "Data predicteda ...\n",
      "Score computed!s for (CESM2 - 2)\n",
      "Extracting data...\r"
     ]
    },
    {
     "name": "stderr",
     "output_type": "stream",
     "text": [
      " 50%|█████     | 5/10 [06:22<06:19, 75.92s/it]"
     ]
    },
    {
     "name": "stdout",
     "output_type": "stream",
     "text": [
      "Data extracted!\n",
      "Data predicteda ...\n",
      "Score computed!s for (CESM2 - 5)\n",
      "Data extracted!...\n",
      "Data predicteda ...\n",
      "Score computed!s for (CanESM5 - 1)\n",
      "Data extracted!...\n",
      "Data predicteda ...\n",
      "Score computed!s for (CanESM5 - 2)\n",
      "Data extracted!...\n",
      "Data predicteda ...\n",
      "Score computed!s for (CanESM5 - 5)\n",
      "Data extracted!...\n",
      "Data predicteda ...\n",
      "Score computed!s for (MIROC-ES2L - 1)\n",
      "Data extracted!...\n",
      "Data predicteda ...\n",
      "Score computed!s for (MIROC-ES2L - 2)\n",
      "Data extracted!...\n",
      "Data predicteda ...\n",
      "Score computed!s for (MIROC-ES2L - 5)\n",
      "Data extracted!...\n",
      "Data predicteda ...\n",
      "Score computed!s for (MPI-ESM1-2-LR - 1)\n",
      "Data extracted!...\n",
      "Data predicteda ...\n",
      "Score computed!s for (MPI-ESM1-2-LR - 2)\n",
      "Data extracted!...\n",
      "Data predicteda ...\n",
      "Score computed!s for (MPI-ESM1-2-LR - 5)\n",
      "Data extracted!...\n",
      "Data predicteda ...\n",
      "Score computed!s for (MIROC6 - 1)\n",
      "Data extracted!...\n",
      "Data predicteda ...\n",
      "Score computed!s for (MIROC6 - 2)\n",
      "Data extracted!...\n",
      "Data predicteda ...\n",
      "Score computed!s for (MIROC6 - 5)\n",
      "Data extracted!...\n",
      "Data predicteda ...\n",
      "Score computed!s for (CESM2 - 1)\n",
      "Data extracted!...\n",
      "Data predicteda ...\n",
      "Score computed!s for (CESM2 - 2)\n",
      "Extracting data...\r"
     ]
    },
    {
     "name": "stderr",
     "output_type": "stream",
     "text": [
      " 60%|██████    | 6/10 [07:44<05:13, 78.27s/it]"
     ]
    },
    {
     "name": "stdout",
     "output_type": "stream",
     "text": [
      "Data extracted!\n",
      "Data predicteda ...\n",
      "Score computed!s for (CESM2 - 5)\n",
      "Data extracted!...\n",
      "Data predicteda ...\n",
      "Score computed!s for (CanESM5 - 1)\n",
      "Data extracted!...\n",
      "Data predicteda ...\n",
      "Score computed!s for (CanESM5 - 2)\n",
      "Data extracted!...\n",
      "Data predicteda ...\n",
      "Score computed!s for (CanESM5 - 5)\n",
      "Data extracted!...\n",
      "Data predicteda ...\n",
      "Score computed!s for (MIROC-ES2L - 1)\n",
      "Data extracted!...\n",
      "Data predicteda ...\n",
      "Score computed!s for (MIROC-ES2L - 2)\n",
      "Data extracted!...\n",
      "Data predicteda ...\n",
      "Score computed!s for (MIROC-ES2L - 5)\n",
      "Data extracted!...\n",
      "Data predicteda ...\n",
      "Score computed!s for (MPI-ESM1-2-LR - 1)\n",
      "Data extracted!...\n",
      "Data predicteda ...\n",
      "Score computed!s for (MPI-ESM1-2-LR - 2)\n",
      "Data extracted!...\n",
      "Data predicteda ...\n",
      "Score computed!s for (MPI-ESM1-2-LR - 5)\n",
      "Data extracted!...\n",
      "Data predicteda ...\n",
      "Score computed!s for (MIROC6 - 1)\n",
      "Data extracted!...\n",
      "Data predicteda ...\n",
      "Score computed!s for (MIROC6 - 2)\n",
      "Data extracted!...\n",
      "Data predicteda ...\n",
      "Score computed!s for (MIROC6 - 5)\n",
      "Data extracted!...\n",
      "Data predicteda ...\n",
      "Score computed!s for (CESM2 - 1)\n",
      "Data extracted!...\n",
      "Data predicteda ...\n",
      "Score computed!s for (CESM2 - 2)\n",
      "Extracting data...\r"
     ]
    },
    {
     "name": "stderr",
     "output_type": "stream",
     "text": [
      " 70%|███████   | 7/10 [09:05<03:57, 79.17s/it]"
     ]
    },
    {
     "name": "stdout",
     "output_type": "stream",
     "text": [
      "Data extracted!\n",
      "Data predicteda ...\n",
      "Score computed!s for (CESM2 - 5)\n",
      "Data extracted!...\n",
      "Data predicteda ...\n",
      "Score computed!s for (CanESM5 - 1)\n",
      "Data extracted!...\n",
      "Data predicteda ...\n",
      "Score computed!s for (CanESM5 - 2)\n",
      "Data extracted!...\n",
      "Data predicteda ...\n",
      "Score computed!s for (CanESM5 - 5)\n",
      "Data extracted!...\n",
      "Data predicteda ...\n",
      "Score computed!s for (MIROC-ES2L - 1)\n",
      "Data extracted!...\n",
      "Data predicteda ...\n",
      "Score computed!s for (MIROC-ES2L - 2)\n",
      "Data extracted!...\n",
      "Data predicteda ...\n",
      "Score computed!s for (MIROC-ES2L - 5)\n",
      "Data extracted!...\n",
      "Data predicteda ...\n",
      "Score computed!s for (MPI-ESM1-2-LR - 1)\n",
      "Data extracted!...\n",
      "Data predicteda ...\n",
      "Score computed!s for (MPI-ESM1-2-LR - 2)\n",
      "Data extracted!...\n",
      "Data predicteda ...\n",
      "Score computed!s for (MPI-ESM1-2-LR - 5)\n",
      "Data extracted!...\n",
      "Data predicteda ...\n",
      "Score computed!s for (MIROC6 - 1)\n",
      "Data extracted!...\n",
      "Data predicteda ...\n",
      "Score computed!s for (MIROC6 - 2)\n",
      "Data extracted!...\n",
      "Data predicteda ...\n",
      "Score computed!s for (MIROC6 - 5)\n",
      "Data extracted!...\n",
      "Data predicteda ...\n",
      "Score computed!s for (CESM2 - 1)\n",
      "Data extracted!...\n",
      "Data predicteda ...\n",
      "Score computed!s for (CESM2 - 2)\n",
      "Extracting data...\r"
     ]
    },
    {
     "name": "stderr",
     "output_type": "stream",
     "text": [
      " 80%|████████  | 8/10 [10:25<02:38, 79.21s/it]"
     ]
    },
    {
     "name": "stdout",
     "output_type": "stream",
     "text": [
      "Data extracted!\n",
      "Data predicteda ...\n",
      "Score computed!s for (CESM2 - 5)\n",
      "Data extracted!...\n",
      "Data predicteda ...\n",
      "Score computed!s for (CanESM5 - 1)\n",
      "Data extracted!...\n",
      "Data predicteda ...\n",
      "Score computed!s for (CanESM5 - 2)\n",
      "Data extracted!...\n",
      "Data predicteda ...\n",
      "Score computed!s for (CanESM5 - 5)\n",
      "Data extracted!...\n",
      "Data predicteda ...\n",
      "Score computed!s for (MIROC-ES2L - 1)\n",
      "Data extracted!...\n",
      "Data predicteda ...\n",
      "Score computed!s for (MIROC-ES2L - 2)\n",
      "Data extracted!...\n",
      "Data predicteda ...\n",
      "Score computed!s for (MIROC-ES2L - 5)\n",
      "Data extracted!...\n",
      "Data predicteda ...\n",
      "Score computed!s for (MPI-ESM1-2-LR - 1)\n",
      "Data extracted!...\n",
      "Data predicteda ...\n",
      "Score computed!s for (MPI-ESM1-2-LR - 2)\n",
      "Data extracted!...\n",
      "Data predicteda ...\n",
      "Score computed!s for (MPI-ESM1-2-LR - 5)\n",
      "Data extracted!...\n",
      "Data predicteda ...\n",
      "Score computed!s for (MIROC6 - 1)\n",
      "Data extracted!...\n",
      "Data predicteda ...\n",
      "Score computed!s for (MIROC6 - 2)\n",
      "Data extracted!...\n",
      "Data predicteda ...\n",
      "Score computed!s for (MIROC6 - 5)\n",
      "Data extracted!...\n",
      "Data predicteda ...\n",
      "Score computed!s for (CESM2 - 1)\n",
      "Data extracted!...\n",
      "Data predicteda ...\n",
      "Score computed!s for (CESM2 - 2)\n",
      "Extracting data...\r"
     ]
    },
    {
     "name": "stderr",
     "output_type": "stream",
     "text": [
      " 90%|█████████ | 9/10 [11:41<01:18, 78.27s/it]"
     ]
    },
    {
     "name": "stdout",
     "output_type": "stream",
     "text": [
      "Data extracted!\n",
      "Data predicteda ...\n",
      "Score computed!s for (CESM2 - 5)\n",
      "Data extracted!...\n",
      "Data predicteda ...\n",
      "Score computed!s for (CanESM5 - 1)\n",
      "Data extracted!...\n",
      "Data predicteda ...\n",
      "Score computed!s for (CanESM5 - 2)\n",
      "Data extracted!...\n",
      "Data predicteda ...\n",
      "Score computed!s for (CanESM5 - 5)\n",
      "Data extracted!...\n",
      "Data predicteda ...\n",
      "Score computed!s for (MIROC-ES2L - 1)\n",
      "Data extracted!...\n",
      "Data predicteda ...\n",
      "Score computed!s for (MIROC-ES2L - 2)\n",
      "Data extracted!...\n",
      "Data predicteda ...\n",
      "Score computed!s for (MIROC-ES2L - 5)\n",
      "Data extracted!...\n",
      "Data predicteda ...\n",
      "Score computed!s for (MPI-ESM1-2-LR - 1)\n",
      "Data extracted!...\n",
      "Data predicteda ...\n",
      "Score computed!s for (MPI-ESM1-2-LR - 2)\n",
      "Data extracted!...\n",
      "Data predicteda ...\n",
      "Score computed!s for (MPI-ESM1-2-LR - 5)\n",
      "Data extracted!...\n",
      "Data predicteda ...\n",
      "Score computed!s for (MIROC6 - 1)\n",
      "Data extracted!...\n",
      "Data predicteda ...\n",
      "Score computed!s for (MIROC6 - 2)\n",
      "Data extracted!...\n",
      "Data predicteda ...\n",
      "Score computed!s for (MIROC6 - 5)\n",
      "Data extracted!...\n",
      "Data predicteda ...\n",
      "Score computed!s for (CESM2 - 1)\n",
      "Data extracted!...\n",
      "Data predicteda ...\n",
      "Score computed!s for (CESM2 - 2)\n",
      "Extracting data...\r"
     ]
    },
    {
     "name": "stderr",
     "output_type": "stream",
     "text": [
      "100%|██████████| 10/10 [12:59<00:00, 77.93s/it]"
     ]
    },
    {
     "name": "stdout",
     "output_type": "stream",
     "text": [
      "Data extracted!\n",
      "Data predicteda ...\n",
      "Score computed!s for (CESM2 - 5)\n"
     ]
    },
    {
     "name": "stderr",
     "output_type": "stream",
     "text": [
      "\n"
     ]
    }
   ],
   "source": [
    "R = 10\n",
    "scores_pattern = {model:{gamma:[] for gamma in weights[model].keys()} for model in models}\n",
    "for b in tqdm(range(R)):\n",
    "    for model in models:\n",
    "        for gamma in weights[model].keys():\n",
    "            print(\"Extracting data...\", end='\\r')\n",
    "            A_test, X_test, Y_test = load_data_models([model], var='tas', coarse=coarse, n_sample=N)\n",
    "            print('Data extracted!')\n",
    "            print(\"Predicting data ...\", end='\\r')\n",
    "            A, B = weights[model][gamma]['weights'][:,:-1], weights[model][gamma]['weights'][:,-1]\n",
    "            Y_pred = X_test @ A.T + B \n",
    "            print(\"Data predicted\")\n",
    "            print(\"Computing scores for ({} - {})\".format(model, gamma), end='\\r')\n",
    "            score_pattern = r2_score(Y_test, Y_pred, multioutput='raw_values')\n",
    "            scores_pattern[model][gamma].append(score_pattern)\n",
    "            print(\"Score computed!\")\n"
   ]
  },
  {
   "cell_type": "code",
   "execution_count": 23,
   "id": "4c248038",
   "metadata": {},
   "outputs": [],
   "source": [
    "gamma=1"
   ]
  },
  {
   "cell_type": "code",
   "execution_count": 24,
   "id": "5d636c6a",
   "metadata": {},
   "outputs": [
    {
     "data": {
      "image/png": "[encoded data removed]",
      "text/plain": [
       "<Figure size 640x480 with 1 Axes>"
      ]
     },
     "metadata": {},
     "output_type": "display_data"
    }
   ],
   "source": [
    "plt.boxplot([np.mean(scores_pattern[model][gamma], axis=1) for model in models])\n",
    "# Boxplot\n",
    "# Set xticklabels with alpha values\n",
    "plt.xticks(range(1, len(models) + 1), [model for model in models], rotation=45)\n",
    "\n",
    "# Set xlabel with alphas\n",
    "plt.xlabel(r'Models')\n",
    "\n",
    "# Set ylabel with r2 score\n",
    "plt.ylabel(r'$R^2$ Score')\n",
    "\n",
    "directory = '../Results'\n",
    "plt.savefig(directory + \"/R2_anchor{}_stability_coarse{}.pdf\".format(gamma, coarse), format=\"pdf\", bbox_inches=\"tight\")\n",
    "\n",
    "plt.show()"
   ]
  },
  {
   "cell_type": "code",
   "execution_count": 25,
   "id": "954fe825",
   "metadata": {},
   "outputs": [],
   "source": [
    "model = 'CanESM5'\n",
    "scores_pattern_maps = np.mean(scores_pattern[model][gamma], axis=0).reshape(len(lat), len(lon))"
   ]
  },
  {
   "cell_type": "code",
   "execution_count": 26,
   "id": "666d0f20",
   "metadata": {},
   "outputs": [
    {
     "data": {
      "image/png": "[encoded data removed]",
      "text/plain": [
       "<Figure size 1000x600 with 2 Axes>"
      ]
     },
     "metadata": {},
     "output_type": "display_data"
    }
   ],
   "source": [
    "import numpy as np\n",
    "import matplotlib.pyplot as plt\n",
    "import cartopy.crs as ccrs\n",
    "from cartopy.mpl.gridliner import LONGITUDE_FORMATTER, LATITUDE_FORMATTER\n",
    "from matplotlib.colors import TwoSlopeNorm\n",
    "\n",
    "# Assuming you have defined lat, lon, diff_r2_map, diff_corr_map, max_val_r2, max_val_corr\n",
    "\n",
    "# Plotting\n",
    "fig = plt.figure(figsize=(10, 6))\n",
    "ax = plt.axes(projection=ccrs.Robinson())\n",
    "\n",
    "# Plot for diff_r2_map\n",
    "norm_r2 = TwoSlopeNorm(vmin=-1.0, vcenter=0.0, vmax=1)\n",
    "contour_r2 = ax.pcolormesh(lon, lat, scores_pattern_maps, transform=ccrs.PlateCarree(), cmap='coolwarm', norm=norm_r2)\n",
    "ax.coastlines()\n",
    "\n",
    "gl = ax.gridlines(draw_labels=True)\n",
    "gl.top_labels = gl.right_labels = False\n",
    "gl.xformatter = LONGITUDE_FORMATTER\n",
    "gl.yformatter = LATITUDE_FORMATTER\n",
    "gl.xlabel_style = {'size': 12}  # Longitude font size\n",
    "gl.ylabel_style = {'size': 12}  # Latitude font size\n",
    "\n",
    "ax.set_title(r'Explained variance of optimal fingerprint (stability)', fontsize=15)\n",
    "\n",
    "cb = plt.colorbar(contour_r2, ax=ax, label='R2 score differences', orientation='horizontal')\n",
    "cb.ax.tick_params(labelsize=12)\n",
    "cb.set_label(r'$R^2$ ', fontsize=12) \n",
    "\n",
    "directory = '../Results'\n",
    "plt.savefig(directory + \"/maps_R2_anchor{}_stability_coarse_{}_{}.pdf\".format(gamma, coarse, model), format=\"pdf\", bbox_inches=\"tight\")\n",
    "\n",
    "\n",
    "plt.show()"
   ]
  },
  {
   "cell_type": "code",
   "execution_count": null,
   "id": "ea687c68",
   "metadata": {},
   "outputs": [],
   "source": []
  },
  {
   "cell_type": "code",
   "execution_count": null,
   "id": "a90790fa",
   "metadata": {},
   "outputs": [],
   "source": []
  }
 ],
 "metadata": {
  "kernelspec": {
   "display_name": "forcesmip",
   "language": "python",
   "name": "python3"
  },
  "language_info": {
   "codemirror_mode": {
    "name": "ipython",
    "version": 3
   },
   "file_extension": ".py",
   "mimetype": "text/x-python",
   "name": "python",
   "nbconvert_exporter": "python",
   "pygments_lexer": "ipython3",
   "version": "3.9.18"
  }
 },
 "nbformat": 4,
 "nbformat_minor": 5
}
