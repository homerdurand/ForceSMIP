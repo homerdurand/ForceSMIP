{
 "cells": [
  {
   "cell_type": "code",
   "execution_count": null,
   "id": "6271f056",
   "metadata": {},
   "outputs": [],
   "source": [
    "from matplotlib import pyplot as plt\n",
    "\n",
    "import xarray as xr\n",
    "import netCDF4 as nc\n",
    "import numpy as np\n",
    "\n",
    "import os\n",
    "\n",
    "import datetime as dt\n",
    "import pickle"
   ]
  },
  {
   "cell_type": "code",
   "execution_count": null,
   "id": "556a3f0a",
   "metadata": {},
   "outputs": [],
   "source": [
    "models = ['CanESM5', 'MIROC-ES2L', 'MPI-ESM1-2-LR', 'MIROC6', 'CESM2']"
   ]
  },
  {
   "cell_type": "markdown",
   "id": "f6d67de1",
   "metadata": {},
   "source": [
    "## Loading and averaging weights"
   ]
  },
  {
   "cell_type": "code",
   "execution_count": null,
   "id": "6cff120e",
   "metadata": {},
   "outputs": [],
   "source": [
    "# Loading wieghts\n",
    "N=1500\n",
    "coarse=6\n",
    "var = 'psl'\n",
    "directory = '../weights/'\n",
    "if var == 'pr':\n",
    "    file = 'Anchor_OPLS_{}_weights_stability_n{}_coarse{}.pkl'.format('precip', N, coarse)\n",
    "elif var == 'tas' :\n",
    "    file = 'Anchor_OPLS_{}_weights_stability_n{}_coarse{}.pkl'.format(var, 600, coarse)\n",
    "else :\n",
    "    file = 'Anchor_OPLS_{}_weights_stability_n{}_coarse{}.pkl'.format(var, N, coarse)\n",
    "with open(directory + file, 'rb') as f:\n",
    "    weights = pickle.load(f)"
   ]
  },
  {
   "cell_type": "code",
   "execution_count": null,
   "id": "3063b201",
   "metadata": {},
   "outputs": [],
   "source": [
    "# Averaging training weights\n",
    "gamma = 5 # Possible gamma : {2, 5, 10}\n",
    "total_weights = np.zeros(weights['CanESM5'][gamma]['weights'].shape)\n",
    "total_samples = 0\n",
    "for model in models:\n",
    "    total_weights += weights[model][gamma]['weights']*weights[model][gamma]['n_samples']\n",
    "    total_samples += weights[model][gamma]['n_samples']\n",
    "total_weights /= total_samples"
   ]
  },
  {
   "cell_type": "markdown",
   "id": "787692d6",
   "metadata": {},
   "source": [
    "## Predictions"
   ]
  },
  {
   "cell_type": "code",
   "execution_count": null,
   "id": "d20cb2ba",
   "metadata": {},
   "outputs": [],
   "source": [
    "path='../data/Evaluation-Tier1/Amon/{}'.format(var)\n",
    "path2='../predictions/{}'.format(var)\n",
    "\n",
    "for file in os.listdir(path) :\n",
    "    # Opening test file \n",
    "    file_path = os.path.join(path, file)\n",
    "    ds = xr.open_dataset(file_path)\n",
    "    # Compute anomalies\n",
    "    climatology = ds.groupby('time.month').mean(dim='time')\n",
    "    anomalies = ds.groupby('time.month') - climatology\n",
    "    shape = anomalies[var].shape\n",
    "    # Coarsening anomalies\n",
    "    anomalies_regional = anomalies[var].values.reshape(shape[0], shape[1]//coarse, coarse, shape[2]//coarse, coarse)\n",
    "    X = anomalies_regional.mean(axis=(2, 4)).reshape(shape[0], (shape[1]//coarse) * (shape[2]//coarse))\n",
    "    \n",
    "    # Prediction using reduced rank weight matrix \n",
    "    Y_pred = X @ total_weights\n",
    "    \n",
    "    # Reshape to original shape (time, lat, lon)\n",
    "    Y_pred_spatial = Y_pred.reshape(shape[0], shape[1], shape[2])\n",
    "    \n",
    "    \n",
    "    # Saving data \n",
    "    ds[var][:] = Y_pred_spatial \n",
    "    #ds = ds.groupby('time.month') + climatology\n",
    "    \n",
    "    file_path2 = os.path.join(path2, file[:-3] + 'predictions.c')\n",
    "    ds.to_netcdf(file_path2)\n",
    "    \n",
    "    ds.close()"
   ]
  },
  {
   "cell_type": "markdown",
   "id": "3ea4bae0",
   "metadata": {},
   "source": [
    "## Checking predictions"
   ]
  },
  {
   "cell_type": "code",
   "execution_count": null,
   "id": "2a933a4e",
   "metadata": {},
   "outputs": [],
   "source": [
    "path2='../predictions/{}'.format(var)\n",
    "i=0\n",
    "for file in os.listdir(path2) :\n",
    "    file_path = os.path.join(path2, file)\n",
    "    ds = xr.open_dataset(file_path)\n",
    "    plt.plot(ds[var].values.mean(axis=(1, 2)), label='file {}'.format(i))\n",
    "    ds.close()\n",
    "    i+=1\n",
    "plt.legend()\n",
    "plt.show()"
   ]
  },
  {
   "cell_type": "code",
   "execution_count": null,
   "id": "704988fa",
   "metadata": {},
   "outputs": [],
   "source": []
  }
 ],
 "metadata": {
  "kernelspec": {
   "display_name": "forcesmip",
   "language": "python",
   "name": "forcesmip"
  },
  "language_info": {
   "codemirror_mode": {
    "name": "ipython",
    "version": 3
   },
   "file_extension": ".py",
   "mimetype": "text/x-python",
   "name": "python",
   "nbconvert_exporter": "python",
   "pygments_lexer": "ipython3",
   "version": "3.9.18"
  }
 },
 "nbformat": 4,
 "nbformat_minor": 5
}
